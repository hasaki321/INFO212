{
 "cells": [
  {
   "cell_type": "markdown",
   "id": "fb4d9054",
   "metadata": {},
   "source": [
    "## INFO212 Assignment2 T22"
   ]
  },
  {
   "cell_type": "markdown",
   "id": "c2a2918f",
   "metadata": {},
   "source": [
    "### Data Collection  \n",
    "Request:  \n",
    "- Download JSON data files containing economic indicators from reputable sources (e.g. such as the World Bank or IMF).  \n",
    "- Ensure the data spans at least 5 years for multiple countries. "
   ]
  },
  {
   "cell_type": "code",
   "execution_count": 10,
   "id": "d2245ee4",
   "metadata": {},
   "outputs": [
    {
     "name": "stdout",
     "output_type": "stream",
     "text": [
      "Data has been saved to world_bank_data.json\n"
     ]
    }
   ],
   "source": [
    "import requests\n",
    "import json\n",
    "\n",
    "# 定义查询的国家和指标\n",
    "countries = [\"CN\", \"BR\", \"JP\", \"CA\", \"NP\"]\n",
    "indicators = {\n",
    "    \"GDP\": \"NY.GDP.MKTP.CD\",\n",
    "    \"Unemployment\": \"SL.UEM.TOTL.ZS\",\n",
    "    \"Inflation\": \"FP.CPI.TOTL\"\n",
    "}\n",
    "years = range(2010, 2019 + 1)\n",
    "base_url = \"http://api.worldbank.org/v2/country/{}/indicator/{}?date={}:{}&format=json&per_page=1000\"\n",
    "\n",
    "# 获取数据并合并成一个JSON文件\n",
    "data = {}\n",
    "for indicator_name, indicator_code in indicators.items():\n",
    "    data[indicator_name] = {}\n",
    "    for country in countries:\n",
    "        response = requests.get(base_url.format(country, indicator_code, years[0], years[-1]))\n",
    "        if response.status_code == 200:\n",
    "            result = response.json()\n",
    "            if len(result) > 1:\n",
    "                data[indicator_name][country] = result[1]\n",
    "        else:\n",
    "            print(f\"Error fetching data for {country} - {indicator_name}: {response.status_code}\")\n",
    "\n",
    "# 保存数据到JSON文件\n",
    "with open(\"world_bank_data.json\", \"w\") as f:\n",
    "    json.dump(data, f, indent=4)\n",
    "\n",
    "print(\"Data has been saved to world_bank_data.json\")\n"
   ]
  },
  {
   "cell_type": "markdown",
   "id": "c71140bb",
   "metadata": {},
   "source": [
    "## Data Preparation  \n",
    "Request:  \n",
    "- If required, load the JSON files into Pandas DataFrames.     \n",
    "- Clean the data by handling missing values, duplicates, and incorrect data \n",
    "types. "
   ]
  },
  {
   "cell_type": "code",
   "execution_count": 12,
   "id": "44d5237b",
   "metadata": {},
   "outputs": [
    {
     "name": "stdout",
     "output_type": "stream",
     "text": [
      "GDP DataFrame:\n",
      "country        Brazil        Canada         China         Japan         Nepal\n",
      "date                                                                         \n",
      "2010     2.208838e+12  1.617343e+12  6.087192e+12  5.759072e+12  1.600266e+10\n",
      "2011     2.616156e+12  1.793327e+12  7.551546e+12  6.233147e+12  2.157387e+10\n",
      "2012     2.465228e+12  1.828366e+12  8.532185e+12  6.272363e+12  2.170310e+10\n",
      "2013     2.472820e+12  1.846597e+12  9.570471e+12  5.212328e+12  2.216221e+10\n",
      "2014     2.456044e+12  1.805750e+12  1.047562e+13  4.896994e+12  2.273161e+10\n",
      "2015     1.802212e+12  1.556509e+12  1.106157e+13  4.444931e+12  2.436080e+10\n",
      "2016     1.795693e+12  1.527995e+12  1.123331e+13  5.003678e+12  2.452411e+10\n",
      "2017     2.063515e+12  1.649266e+12  1.231049e+13  4.930837e+12  2.897159e+10\n",
      "2018     1.916934e+12  1.725329e+12  1.389491e+13  5.040881e+12  3.311153e+10\n",
      "2019     1.873288e+12  1.743725e+12  1.427997e+13  5.117994e+12  3.418618e+10\n",
      "\n",
      "Unemployment DataFrame:\n",
      "country  Brazil  Canada  China  Japan   Nepal\n",
      "date                                         \n",
      "2010      8.426    8.18   4.53   5.10  10.661\n",
      "2011      7.580    7.64   4.55   4.55  10.665\n",
      "2012      7.250    7.39   4.58   4.36  10.664\n",
      "2013      7.070    7.14   4.60   4.04  10.666\n",
      "2014      6.760    7.02   4.63   3.59  10.661\n",
      "2015      8.540    6.95   4.65   3.39  10.662\n",
      "2016     11.580    7.04   4.56   3.13  10.667\n",
      "2017     12.790    6.43   4.47   2.82  10.660\n",
      "2018     12.330    5.84   4.31   2.47  10.652\n",
      "2019     11.940    5.69   4.56   2.35  10.640\n",
      "\n",
      "Inflation DataFrame:\n",
      "country      Brazil      Canada       China       Japan       Nepal\n",
      "date                                                               \n",
      "2010     100.000000  100.000000  100.000000  100.000000  100.000000\n",
      "2011     106.636450  102.912135  105.553899   99.727544  109.227075\n",
      "2012     112.398549  104.471952  108.318909   99.683600  119.559749\n",
      "2013     119.372104  105.452204  111.158002  100.017578  130.368145\n",
      "2014     126.927213  107.462793  113.294060  102.777290  141.272339\n",
      "2015     138.388615  108.672009  114.922123  103.594656  152.388930\n",
      "2016     150.482594  110.224671  117.220567  103.462823  165.784441\n",
      "2017     155.668786  111.984831  119.088050  103.963790  171.797602\n",
      "2018     161.373814  114.524900  121.558878  104.992090  178.774583\n",
      "2019     167.397860  116.757298  125.083154  105.484268  188.729977\n"
     ]
    }
   ],
   "source": [
    "import pandas as pd\n",
    "\n",
    "# 国家名称映射字典\n",
    "import pandas as pd\n",
    "\n",
    "# 国家名称映射字典\n",
    "country_names = {\"CN\": \"China\", \"BR\": \"Brazil\", \"JP\": \"Japan\", \"CA\": \"Canada\", \"NP\": \"Nepal\"}\n",
    "\n",
    "def create_dataframe(data, indicator):\n",
    "    records = [(country_names[country_code], int(entry['date']), entry['value']) for country_code, values in data[indicator].items() for entry in values]\n",
    "    df = pd.DataFrame(records, columns=['country', 'date', indicator])\n",
    "    df_pivot = df.pivot(index='date', columns='country', values=indicator)\n",
    "    return df_pivot\n",
    "\n",
    "# 创建GDP、Unemployment、Inflation的DataFrame\n",
    "gdp_df = create_dataframe(data, \"GDP\")\n",
    "unemployment_df = create_dataframe(data, \"Unemployment\")\n",
    "inflation_df = create_dataframe(data, \"Inflation\")\n",
    "\n",
    "# 显示DataFrame\n",
    "print(\"GDP DataFrame:\")\n",
    "print(gdp_df)\n",
    "print(\"\\nUnemployment DataFrame:\")\n",
    "print(unemployment_df)\n",
    "print(\"\\nInflation DataFrame:\")\n",
    "print(inflation_df)"
   ]
  },
  {
   "cell_type": "code",
   "execution_count": null,
   "id": "cbfc76ab",
   "metadata": {},
   "outputs": [],
   "source": []
  }
 ],
 "metadata": {
  "kernelspec": {
   "display_name": "Python 3 (ipykernel)",
   "language": "python",
   "name": "python3"
  },
  "language_info": {
   "codemirror_mode": {
    "name": "ipython",
    "version": 3
   },
   "file_extension": ".py",
   "mimetype": "text/x-python",
   "name": "python",
   "nbconvert_exporter": "python",
   "pygments_lexer": "ipython3",
   "version": "3.9.13"
  },
  "toc": {
   "base_numbering": 1,
   "nav_menu": {},
   "number_sections": true,
   "sideBar": true,
   "skip_h1_title": false,
   "title_cell": "Table of Contents",
   "title_sidebar": "Contents",
   "toc_cell": false,
   "toc_position": {},
   "toc_section_display": true,
   "toc_window_display": false
  }
 },
 "nbformat": 4,
 "nbformat_minor": 5
}
