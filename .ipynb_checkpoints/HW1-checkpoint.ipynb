{
 "cells": [
  {
   "cell_type": "code",
   "execution_count": 1,
   "id": "dbdcc759",
   "metadata": {},
   "outputs": [],
   "source": [
    "import pandas as pd\n",
    "import matplotlib.pyplot as plt\n",
    "import numpy as np\n",
    "import os"
   ]
  },
  {
   "cell_type": "code",
   "execution_count": 2,
   "id": "6aeec064",
   "metadata": {},
   "outputs": [],
   "source": [
    "# !wget \"https://www.kaggle.com/datasets/rounakbanik/the-movies-dataset/download?datasetVersionNumber=7\"\n",
    "# !mv archive.zip datasets\n",
    "# !unzip datasets/archive"
   ]
  },
  {
   "cell_type": "markdown",
   "id": "10b2983a",
   "metadata": {},
   "source": [
    "### 1. Data Cleaning\n",
    "\n",
    "- Load the dataset using pandas.\n",
    "- Handle missing values and clean the data appropriately.\n",
    "- Convert data types if necessary (e.g., converting strings to numerical values)."
   ]
  },
  {
   "cell_type": "markdown",
   "id": "9ef0b99d",
   "metadata": {},
   "source": [
    "####  1.1 Load the dataset using pandas."
   ]
  },
  {
   "cell_type": "code",
   "execution_count": 3,
   "id": "f8d0dff1",
   "metadata": {},
   "outputs": [
    {
     "name": "stderr",
     "output_type": "stream",
     "text": [
      "C:\\Users\\h\\AppData\\Local\\Temp\\ipykernel_26120\\1054230252.py:9: DtypeWarning: Columns (10) have mixed types. Specify dtype option on import or set low_memory=False.\n",
      "  df = pd.read_csv(os.path.join(data_dir,file))\n"
     ]
    }
   ],
   "source": [
    "pwd = os.getcwd()\n",
    "data_dir = os.path.join(pwd,'datasets')\n",
    "files = os.listdir(data_dir)\n",
    "dfs = []\n",
    "\n",
    "for file in files:\n",
    "    if file.endswith('.csv'):\n",
    "        if file.endswith('_small.csv'): continue\n",
    "        df = pd.read_csv(os.path.join(data_dir,file))\n",
    "        dfs.append(df)"
   ]
  },
  {
   "cell_type": "markdown",
   "id": "af785164",
   "metadata": {},
   "source": [
    "#### 1.2 Handle missing values and clean the data appropriately."
   ]
  },
  {
   "cell_type": "code",
   "execution_count": 4,
   "id": "0129c281",
   "metadata": {},
   "outputs": [],
   "source": [
    "for df in dfs:\n",
    "    df.fillna('NaN', inplace=True)"
   ]
  },
  {
   "cell_type": "markdown",
   "id": "58fe1c48",
   "metadata": {},
   "source": [
    "#### 1.3 Convert data types if necessary "
   ]
  },
  {
   "cell_type": "code",
   "execution_count": 5,
   "id": "ed0fb312",
   "metadata": {},
   "outputs": [
    {
     "name": "stdout",
     "output_type": "stream",
     "text": [
      "dataframe 1: object object int64 \n",
      "dataframe 2: int64 object \n",
      "dataframe 3: int64 int64 object \n",
      "dataframe 4: object object object object object float64 object object object object object object object object object object object object object object object object object object \n",
      "dataframe 5: int64 int64 float64 int64 \n"
     ]
    }
   ],
   "source": [
    "# 我们需要metadata的id，将其转为int64\n",
    "dfs[-2]['id'] = pd.to_numeric(dfs[-2]['id'], errors='coerce')\n",
    "\n",
    "for i,df in enumerate(dfs):\n",
    "    types = ''\n",
    "    for col in df.columns:\n",
    "        types += str(df[col].dtype) + ' '\n",
    "    print(f\"dataframe {i+1}:\",types)\n",
    "# print(dfs[-2]['id'])\n",
    "# dfs[-2]['id'] = dfs[-2]['id'].astype('int64')\n"
   ]
  },
  {
   "cell_type": "markdown",
   "id": "636290f8",
   "metadata": {},
   "source": [
    "### 2. Exploratory Data Analysis\n",
    "- Generate summary statistics for the numerical columns.\n",
    "- Explore the distribution of movie ratings and revenues.\n",
    "- Identify the top 10 highest-grossing movies."
   ]
  },
  {
   "cell_type": "markdown",
   "id": "ff4f7dae",
   "metadata": {},
   "source": [
    "#### 问题\n",
    "\n",
    "我觉得id和一些杂七杂八的项不应该当做统计数据。（但是其实也算numerical）\n",
    "\n",
    "我这里列了一下每个文件可能需要统计的值：\n",
    "\n",
    "credits:\n",
    "|表格名|要统计的列|\n",
    "|:--|:--|\n",
    "|credits.csv|None|\n",
    "|keywords.csv|可能词频是需要的？|\n",
    "|links.csv|链接表，没有|\n",
    "|movies_metadata.csv|adults,revenue,runtime,vote_average,vote_count,budget,genres(统计类别？),production(可能？),|\n",
    "|ratings.csv|rating|"
   ]
  },
  {
   "cell_type": "code",
   "execution_count": 6,
   "id": "aacea4ce",
   "metadata": {},
   "outputs": [],
   "source": [
    "statics_df = pd.merge(dfs[-2],dfs[-1], left_on='id', right_on='movieId')"
   ]
  },
  {
   "cell_type": "code",
   "execution_count": 7,
   "id": "65aa4b10",
   "metadata": {},
   "outputs": [],
   "source": [
    "colomns = ['adult','revenue','runtime','popularity','vote_average','vote_count','budget','rating']\n",
    "\n",
    "statics_df = statics_df[colomns]"
   ]
  },
  {
   "cell_type": "code",
   "execution_count": 8,
   "id": "e585eed7",
   "metadata": {},
   "outputs": [],
   "source": [
    "for col in colomns[1:]:\n",
    "    statics_df[col] = statics_df[col].astype('float64')"
   ]
  },
  {
   "cell_type": "code",
   "execution_count": 9,
   "id": "8ff91600",
   "metadata": {},
   "outputs": [
    {
     "data": {
      "text/html": [
       "<div>\n",
       "<style scoped>\n",
       "    .dataframe tbody tr th:only-of-type {\n",
       "        vertical-align: middle;\n",
       "    }\n",
       "\n",
       "    .dataframe tbody tr th {\n",
       "        vertical-align: top;\n",
       "    }\n",
       "\n",
       "    .dataframe thead th {\n",
       "        text-align: right;\n",
       "    }\n",
       "</style>\n",
       "<table border=\"1\" class=\"dataframe\">\n",
       "  <thead>\n",
       "    <tr style=\"text-align: right;\">\n",
       "      <th></th>\n",
       "      <th>revenue</th>\n",
       "      <th>runtime</th>\n",
       "      <th>popularity</th>\n",
       "      <th>vote_average</th>\n",
       "      <th>vote_count</th>\n",
       "      <th>budget</th>\n",
       "      <th>rating</th>\n",
       "    </tr>\n",
       "  </thead>\n",
       "  <tbody>\n",
       "    <tr>\n",
       "      <th>count</th>\n",
       "      <td>1.143764e+07</td>\n",
       "      <td>1.143660e+07</td>\n",
       "      <td>1.143764e+07</td>\n",
       "      <td>1.143764e+07</td>\n",
       "      <td>1.143764e+07</td>\n",
       "      <td>1.143764e+07</td>\n",
       "      <td>1.143764e+07</td>\n",
       "    </tr>\n",
       "    <tr>\n",
       "      <th>mean</th>\n",
       "      <td>7.457752e+07</td>\n",
       "      <td>1.085952e+02</td>\n",
       "      <td>8.028317e+00</td>\n",
       "      <td>6.617816e+00</td>\n",
       "      <td>6.595482e+02</td>\n",
       "      <td>1.967894e+07</td>\n",
       "      <td>3.532719e+00</td>\n",
       "    </tr>\n",
       "    <tr>\n",
       "      <th>std</th>\n",
       "      <td>1.746882e+08</td>\n",
       "      <td>2.525750e+01</td>\n",
       "      <td>6.590805e+00</td>\n",
       "      <td>1.071666e+00</td>\n",
       "      <td>1.211956e+03</td>\n",
       "      <td>3.778054e+07</td>\n",
       "      <td>1.066919e+00</td>\n",
       "    </tr>\n",
       "    <tr>\n",
       "      <th>min</th>\n",
       "      <td>0.000000e+00</td>\n",
       "      <td>0.000000e+00</td>\n",
       "      <td>0.000000e+00</td>\n",
       "      <td>0.000000e+00</td>\n",
       "      <td>0.000000e+00</td>\n",
       "      <td>0.000000e+00</td>\n",
       "      <td>5.000000e-01</td>\n",
       "    </tr>\n",
       "    <tr>\n",
       "      <th>25%</th>\n",
       "      <td>0.000000e+00</td>\n",
       "      <td>9.500000e+01</td>\n",
       "      <td>2.967672e+00</td>\n",
       "      <td>6.100000e+00</td>\n",
       "      <td>2.900000e+01</td>\n",
       "      <td>0.000000e+00</td>\n",
       "      <td>3.000000e+00</td>\n",
       "    </tr>\n",
       "    <tr>\n",
       "      <th>50%</th>\n",
       "      <td>2.015810e+06</td>\n",
       "      <td>1.060000e+02</td>\n",
       "      <td>7.505268e+00</td>\n",
       "      <td>6.800000e+00</td>\n",
       "      <td>1.600000e+02</td>\n",
       "      <td>1.500000e+06</td>\n",
       "      <td>4.000000e+00</td>\n",
       "    </tr>\n",
       "    <tr>\n",
       "      <th>75%</th>\n",
       "      <td>6.948549e+07</td>\n",
       "      <td>1.210000e+02</td>\n",
       "      <td>1.141632e+01</td>\n",
       "      <td>7.300000e+00</td>\n",
       "      <td>6.520000e+02</td>\n",
       "      <td>2.400000e+07</td>\n",
       "      <td>4.000000e+00</td>\n",
       "    </tr>\n",
       "    <tr>\n",
       "      <th>max</th>\n",
       "      <td>1.845034e+09</td>\n",
       "      <td>8.770000e+02</td>\n",
       "      <td>1.409502e+02</td>\n",
       "      <td>1.000000e+01</td>\n",
       "      <td>1.407500e+04</td>\n",
       "      <td>3.800000e+08</td>\n",
       "      <td>5.000000e+00</td>\n",
       "    </tr>\n",
       "  </tbody>\n",
       "</table>\n",
       "</div>"
      ],
      "text/plain": [
       "            revenue       runtime    popularity  vote_average    vote_count  \\\n",
       "count  1.143764e+07  1.143660e+07  1.143764e+07  1.143764e+07  1.143764e+07   \n",
       "mean   7.457752e+07  1.085952e+02  8.028317e+00  6.617816e+00  6.595482e+02   \n",
       "std    1.746882e+08  2.525750e+01  6.590805e+00  1.071666e+00  1.211956e+03   \n",
       "min    0.000000e+00  0.000000e+00  0.000000e+00  0.000000e+00  0.000000e+00   \n",
       "25%    0.000000e+00  9.500000e+01  2.967672e+00  6.100000e+00  2.900000e+01   \n",
       "50%    2.015810e+06  1.060000e+02  7.505268e+00  6.800000e+00  1.600000e+02   \n",
       "75%    6.948549e+07  1.210000e+02  1.141632e+01  7.300000e+00  6.520000e+02   \n",
       "max    1.845034e+09  8.770000e+02  1.409502e+02  1.000000e+01  1.407500e+04   \n",
       "\n",
       "             budget        rating  \n",
       "count  1.143764e+07  1.143764e+07  \n",
       "mean   1.967894e+07  3.532719e+00  \n",
       "std    3.778054e+07  1.066919e+00  \n",
       "min    0.000000e+00  5.000000e-01  \n",
       "25%    0.000000e+00  3.000000e+00  \n",
       "50%    1.500000e+06  4.000000e+00  \n",
       "75%    2.400000e+07  4.000000e+00  \n",
       "max    3.800000e+08  5.000000e+00  "
      ]
     },
     "execution_count": 9,
     "metadata": {},
     "output_type": "execute_result"
    }
   ],
   "source": [
    "statics_df.describe()"
   ]
  },
  {
   "cell_type": "markdown",
   "id": "81cc34dc",
   "metadata": {},
   "source": [
    "### 3. Genre Analysis\n",
    "- Create a new column that lists the genre of each movie.\n",
    "- Determine the most common movie genre.\n",
    "- Analyze the average rating by genre."
   ]
  },
  {
   "cell_type": "code",
   "execution_count": null,
   "id": "8706378a",
   "metadata": {},
   "outputs": [],
   "source": []
  },
  {
   "cell_type": "markdown",
   "id": "3e63851b",
   "metadata": {},
   "source": [
    "### 5. Basic Calculations (20 marks):\n",
    "- Calculate the average revenue of movies for each year.\n",
    "- Determine the average movie rating for each genre."
   ]
  },
  {
   "cell_type": "code",
   "execution_count": null,
   "id": "bcf96e5e",
   "metadata": {},
   "outputs": [],
   "source": []
  },
  {
   "cell_type": "markdown",
   "id": "99dccc06",
   "metadata": {},
   "source": [
    "### 6. Insights and Conclusion (20 marks):\n",
    "- Summarize your key findings from the EDA and Genre Analysis.\n",
    "- Discuss any interesting trends observed in the Temporal Trends section."
   ]
  },
  {
   "cell_type": "code",
   "execution_count": null,
   "id": "55a7a32d",
   "metadata": {},
   "outputs": [],
   "source": []
  }
 ],
 "metadata": {
  "kernelspec": {
   "display_name": "Python 3 (ipykernel)",
   "language": "python",
   "name": "python3"
  },
  "language_info": {
   "codemirror_mode": {
    "name": "ipython",
    "version": 3
   },
   "file_extension": ".py",
   "mimetype": "text/x-python",
   "name": "python",
   "nbconvert_exporter": "python",
   "pygments_lexer": "ipython3",
   "version": "3.9.17"
  }
 },
 "nbformat": 4,
 "nbformat_minor": 5
}
