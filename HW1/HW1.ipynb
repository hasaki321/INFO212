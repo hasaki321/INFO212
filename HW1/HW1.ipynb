{
 "cells": [
  {
   "cell_type": "code",
   "execution_count": 1,
   "id": "dbdcc759",
   "metadata": {},
   "outputs": [],
   "source": [
    "import pandas as pd\n",
    "import matplotlib.pyplot as plt\n",
    "import numpy as np\n",
    "import os"
   ]
  },
  {
   "cell_type": "markdown",
   "id": "a9d62594",
   "metadata": {},
   "source": [
    "如果你在用linux就直接执行下面这段代码\n",
    "\n",
    "不是的话请手动下载数据集并解压到./datasets"
   ]
  },
  {
   "cell_type": "code",
   "execution_count": 2,
   "id": "6aeec064",
   "metadata": {},
   "outputs": [],
   "source": [
    "# !wget \"https://www.kaggle.com/datasets/rounakbanik/the-movies-dataset/download?datasetVersionNumber=7\"\n",
    "# !mkdir datasets\n",
    "# !mv archive.zip datasets\n",
    "# !unzip datasets/archive"
   ]
  },
  {
   "cell_type": "markdown",
   "id": "10b2983a",
   "metadata": {},
   "source": [
    "### 1. Data Cleaning\n",
    "\n",
    "- Load the dataset using pandas.\n",
    "- Handle missing values and clean the data appropriately.\n",
    "- Convert data types if necessary (e.g., converting strings to numerical values)."
   ]
  },
  {
   "cell_type": "markdown",
   "id": "9ef0b99d",
   "metadata": {},
   "source": [
    "####  1.1 Load the dataset using pandas."
   ]
  },
  {
   "cell_type": "code",
   "execution_count": 37,
   "id": "f8d0dff1",
   "metadata": {},
   "outputs": [],
   "source": [
    "pwd = os.getcwd()\n",
    "data_dir = os.path.join(pwd,'datasets')\n",
    "files = os.listdir(data_dir)\n",
    "dfs = []\n",
    "\n",
    "for file in files:\n",
    "    if file.endswith('.csv'):\n",
    "        if file.endswith('_small.csv'): continue\n",
    "        df = pd.read_csv(os.path.join(data_dir,file),low_memory=False)\n",
    "        dfs.append(df)"
   ]
  },
  {
   "cell_type": "markdown",
   "id": "af785164",
   "metadata": {},
   "source": [
    "#### 1.2 Handle missing values and clean the data appropriately."
   ]
  },
  {
   "cell_type": "code",
   "execution_count": 38,
   "id": "0129c281",
   "metadata": {},
   "outputs": [],
   "source": [
    "for df in dfs:\n",
    "    df.fillna(-1, inplace=True)"
   ]
  },
  {
   "cell_type": "markdown",
   "id": "58fe1c48",
   "metadata": {},
   "source": [
    "#### 1.3 Convert data types if necessary "
   ]
  },
  {
   "cell_type": "code",
   "execution_count": 39,
   "id": "55106b0a",
   "metadata": {},
   "outputs": [],
   "source": [
    "meta_df = dfs[-2]\n",
    "rating_df = dfs[-1]"
   ]
  },
  {
   "cell_type": "code",
   "execution_count": 41,
   "id": "ed0fb312",
   "metadata": {},
   "outputs": [
    {
     "name": "stdout",
     "output_type": "stream",
     "text": [
      "dataframe 1: object object int64 \n",
      "dataframe 2: int64 object \n",
      "dataframe 3: int64 int64 float64 \n",
      "dataframe 4: object object float64 object object float64 object object object object float64 object object object datetime64[ns] float64 float64 object object object object object float64 float64 \n",
      "dataframe 5: int64 int64 float64 int64 \n",
      "Transformed:\n",
      "dataframe 1: object object int64 \n",
      "dataframe 2: int64 object \n",
      "dataframe 3: int64 int64 float64 \n",
      "dataframe 4: object object float64 object object float64 object object object object float64 object object object datetime64[ns] float64 float64 object object object object object float64 float64 \n",
      "dataframe 5: int64 int64 float64 int64 \n"
     ]
    }
   ],
   "source": [
    "# 可以发现df4中全是object，我们需要将其中一些列转化为可数值。\n",
    "# 一些true or false 需要转化为bool\n",
    "\n",
    "for i,df in enumerate(dfs):\n",
    "    types = ''\n",
    "    for col in df.columns:\n",
    "        types += str(df[col].dtype) + ' '\n",
    "    print(f\"dataframe {i+1}:\",types)\n",
    "    \n",
    "tf_columns = ['adult','video']\n",
    "columns = ['id','budget','popularity','revenue','runtime','vote_average','vote_count']\n",
    "for col in columns:\n",
    "    meta_df[col] = pd.to_numeric(meta_df[col], errors='coerce')\n",
    "# for col in tf_columns:\n",
    "#     meta_df[col] = meta_df[col] == \"True\"\n",
    "meta_df['imdb_id'] = meta_df['imdb_id'].str.replace('tt', '')\n",
    "meta_df['release_date'] = pd.to_datetime(meta_df['release_date'], errors='coerce')\n",
    "\n",
    "print(\"Transformed:\")\n",
    "for i,df in enumerate(dfs):\n",
    "    types = ''\n",
    "    for col in df.columns:\n",
    "        types += str(df[col].dtype) + ' '\n",
    "    print(f\"dataframe {i+1}:\",types)"
   ]
  },
  {
   "cell_type": "markdown",
   "id": "636290f8",
   "metadata": {},
   "source": [
    "### 2. Exploratory Data Analysis\n",
    "- Generate summary statistics for the numerical columns.\n",
    "- Explore the distribution of movie ratings and revenues.\n",
    "- Identify the top 10 highest-grossing movies."
   ]
  },
  {
   "cell_type": "markdown",
   "id": "ff4f7dae",
   "metadata": {},
   "source": [
    "#### 问题\n",
    "\n",
    "我觉得id和一些杂七杂八的项不应该当做统计数据。（但是其实也算numerical）\n",
    "\n",
    "我这里列了一下每个文件可能需要统计的值：\n",
    "\n",
    "|表格名|要统计的列|\n",
    "|:--|:--|\n",
    "|credits.csv|None|\n",
    "|keywords.csv|可能词频是需要的？|\n",
    "|links.csv|链接表，没有|\n",
    "|movies_metadata.csv|adults,revenue,popularity,runtime,vote_average,vote_count,budget|\n",
    "|ratings.csv|rating|"
   ]
  },
  {
   "cell_type": "markdown",
   "id": "616d589d",
   "metadata": {},
   "source": [
    "#### 2.1 Generate summary statistics for the numerical columns.\n",
    "```python\n",
    "statics_df = pd.merge(meta_df,dfs[-1], left_on='id', right_on='movieId',how='left')\n",
    "```\n",
    "原本的并联方式有数据丢失，应该改成左连接，但是改完还是有数据丢失，所有干脆直接改成统计完之后再合并"
   ]
  },
  {
   "cell_type": "code",
   "execution_count": 7,
   "id": "aacea4ce",
   "metadata": {},
   "outputs": [
    {
     "data": {
      "text/html": [
       "<div>\n",
       "<style scoped>\n",
       "    .dataframe tbody tr th:only-of-type {\n",
       "        vertical-align: middle;\n",
       "    }\n",
       "\n",
       "    .dataframe tbody tr th {\n",
       "        vertical-align: top;\n",
       "    }\n",
       "\n",
       "    .dataframe thead th {\n",
       "        text-align: right;\n",
       "    }\n",
       "</style>\n",
       "<table border=\"1\" class=\"dataframe\">\n",
       "  <thead>\n",
       "    <tr style=\"text-align: right;\">\n",
       "      <th></th>\n",
       "      <th>revenue</th>\n",
       "      <th>runtime</th>\n",
       "      <th>popularity</th>\n",
       "      <th>vote_average</th>\n",
       "      <th>vote_count</th>\n",
       "      <th>budget</th>\n",
       "      <th>rating</th>\n",
       "    </tr>\n",
       "  </thead>\n",
       "  <tbody>\n",
       "    <tr>\n",
       "      <th>count</th>\n",
       "      <td>4.546600e+04</td>\n",
       "      <td>45466.000000</td>\n",
       "      <td>45465.000000</td>\n",
       "      <td>45466.000000</td>\n",
       "      <td>45466.000000</td>\n",
       "      <td>4.546300e+04</td>\n",
       "      <td>2.602429e+07</td>\n",
       "    </tr>\n",
       "    <tr>\n",
       "      <th>mean</th>\n",
       "      <td>1.120787e+07</td>\n",
       "      <td>93.583711</td>\n",
       "      <td>2.921157</td>\n",
       "      <td>5.617466</td>\n",
       "      <td>109.882836</td>\n",
       "      <td>4.224579e+06</td>\n",
       "      <td>3.528090e+00</td>\n",
       "    </tr>\n",
       "    <tr>\n",
       "      <th>std</th>\n",
       "      <td>6.432813e+07</td>\n",
       "      <td>38.956167</td>\n",
       "      <td>6.005162</td>\n",
       "      <td>1.925171</td>\n",
       "      <td>491.279576</td>\n",
       "      <td>1.742413e+07</td>\n",
       "      <td>1.065443e+00</td>\n",
       "    </tr>\n",
       "    <tr>\n",
       "      <th>min</th>\n",
       "      <td>0.000000e+00</td>\n",
       "      <td>0.000000</td>\n",
       "      <td>0.000000</td>\n",
       "      <td>0.000000</td>\n",
       "      <td>0.000000</td>\n",
       "      <td>0.000000e+00</td>\n",
       "      <td>5.000000e-01</td>\n",
       "    </tr>\n",
       "    <tr>\n",
       "      <th>25%</th>\n",
       "      <td>0.000000e+00</td>\n",
       "      <td>85.000000</td>\n",
       "      <td>0.385825</td>\n",
       "      <td>5.000000</td>\n",
       "      <td>3.000000</td>\n",
       "      <td>0.000000e+00</td>\n",
       "      <td>3.000000e+00</td>\n",
       "    </tr>\n",
       "    <tr>\n",
       "      <th>50%</th>\n",
       "      <td>0.000000e+00</td>\n",
       "      <td>95.000000</td>\n",
       "      <td>1.127443</td>\n",
       "      <td>6.000000</td>\n",
       "      <td>10.000000</td>\n",
       "      <td>0.000000e+00</td>\n",
       "      <td>3.500000e+00</td>\n",
       "    </tr>\n",
       "    <tr>\n",
       "      <th>75%</th>\n",
       "      <td>0.000000e+00</td>\n",
       "      <td>107.000000</td>\n",
       "      <td>3.678394</td>\n",
       "      <td>6.800000</td>\n",
       "      <td>34.000000</td>\n",
       "      <td>0.000000e+00</td>\n",
       "      <td>4.000000e+00</td>\n",
       "    </tr>\n",
       "    <tr>\n",
       "      <th>max</th>\n",
       "      <td>2.787965e+09</td>\n",
       "      <td>1256.000000</td>\n",
       "      <td>547.488298</td>\n",
       "      <td>10.000000</td>\n",
       "      <td>14075.000000</td>\n",
       "      <td>3.800000e+08</td>\n",
       "      <td>5.000000e+00</td>\n",
       "    </tr>\n",
       "  </tbody>\n",
       "</table>\n",
       "</div>"
      ],
      "text/plain": [
       "            revenue       runtime    popularity  vote_average    vote_count  \\\n",
       "count  4.546600e+04  45466.000000  45465.000000  45466.000000  45466.000000   \n",
       "mean   1.120787e+07     93.583711      2.921157      5.617466    109.882836   \n",
       "std    6.432813e+07     38.956167      6.005162      1.925171    491.279576   \n",
       "min    0.000000e+00      0.000000      0.000000      0.000000      0.000000   \n",
       "25%    0.000000e+00     85.000000      0.385825      5.000000      3.000000   \n",
       "50%    0.000000e+00     95.000000      1.127443      6.000000     10.000000   \n",
       "75%    0.000000e+00    107.000000      3.678394      6.800000     34.000000   \n",
       "max    2.787965e+09   1256.000000    547.488298     10.000000  14075.000000   \n",
       "\n",
       "             budget        rating  \n",
       "count  4.546300e+04  2.602429e+07  \n",
       "mean   4.224579e+06  3.528090e+00  \n",
       "std    1.742413e+07  1.065443e+00  \n",
       "min    0.000000e+00  5.000000e-01  \n",
       "25%    0.000000e+00  3.000000e+00  \n",
       "50%    0.000000e+00  3.500000e+00  \n",
       "75%    0.000000e+00  4.000000e+00  \n",
       "max    3.800000e+08  5.000000e+00  "
      ]
     },
     "execution_count": 7,
     "metadata": {},
     "output_type": "execute_result"
    }
   ],
   "source": [
    "colomns = ['adult','revenue','runtime','popularity','vote_average','vote_count','budget']\n",
    "\n",
    "df_d0 = pd.DataFrame(meta_df[colomns].describe())\n",
    "df_d1 = dfs[-1]['rating'].describe()\n",
    "df_d0['rating'] = df_d1\n",
    "df_d0"
   ]
  },
  {
   "cell_type": "markdown",
   "id": "571e3adb",
   "metadata": {},
   "source": [
    "#### 2.2 Explore the distribution of movie ratings and revenues."
   ]
  },
  {
   "cell_type": "code",
   "execution_count": 57,
   "id": "f0a27de5",
   "metadata": {},
   "outputs": [
    {
     "data": {
      "image/png": "[encoded data removed]",
      "text/plain": [
       "<Figure size 640x480 with 1 Axes>"
      ]
     },
     "metadata": {},
     "output_type": "display_data"
    },
    {
     "data": {
      "image/png": "[encoded data removed]",
      "text/plain": [
       "<Figure size 640x480 with 1 Axes>"
      ]
     },
     "metadata": {},
     "output_type": "display_data"
    }
   ],
   "source": [
    "plt.figure()\n",
    "plt.hist(dfs[-1]['rating'].dropna(), bins=20, edgecolor='black')\n",
    "plt.title('distribution')\n",
    "plt.xlabel('rating')\n",
    "plt.ylabel('pin')\n",
    "plt.show()\n",
    "\n",
    "filtered_data = meta_df[meta_df['revenue'] != 0]['revenue']\n",
    "\n",
    "plt.figure()\n",
    "plt.hist(filtered_data.dropna(), bins=10, edgecolor='black')\n",
    "plt.title('distribution')\n",
    "plt.xlabel('revenue')\n",
    "plt.ylabel('pin')\n",
    "plt.show()"
   ]
  },
  {
   "cell_type": "markdown",
   "id": "1f6001dc",
   "metadata": {},
   "source": [
    "#### 2.3 Identify the top 10 highest-grossing movies."
   ]
  },
  {
   "cell_type": "markdown",
   "id": "fa2c90f3",
   "metadata": {},
   "source": [
    "原本那个统计的结果有点问题，可能是在并联或者去0 的时候出问题了，不如直接拿原始数据来排序"
   ]
  },
  {
   "cell_type": "code",
   "execution_count": 9,
   "id": "64e5d7c3",
   "metadata": {},
   "outputs": [
    {
     "data": {
      "text/html": [
       "<div>\n",
       "<style scoped>\n",
       "    .dataframe tbody tr th:only-of-type {\n",
       "        vertical-align: middle;\n",
       "    }\n",
       "\n",
       "    .dataframe tbody tr th {\n",
       "        vertical-align: top;\n",
       "    }\n",
       "\n",
       "    .dataframe thead th {\n",
       "        text-align: right;\n",
       "    }\n",
       "</style>\n",
       "<table border=\"1\" class=\"dataframe\">\n",
       "  <thead>\n",
       "    <tr style=\"text-align: right;\">\n",
       "      <th></th>\n",
       "      <th>title</th>\n",
       "      <th>revenue</th>\n",
       "    </tr>\n",
       "  </thead>\n",
       "  <tbody>\n",
       "    <tr>\n",
       "      <th>14551</th>\n",
       "      <td>Avatar</td>\n",
       "      <td>2.787965e+09</td>\n",
       "    </tr>\n",
       "    <tr>\n",
       "      <th>26555</th>\n",
       "      <td>Star Wars: The Force Awakens</td>\n",
       "      <td>2.068224e+09</td>\n",
       "    </tr>\n",
       "    <tr>\n",
       "      <th>1639</th>\n",
       "      <td>Titanic</td>\n",
       "      <td>1.845034e+09</td>\n",
       "    </tr>\n",
       "    <tr>\n",
       "      <th>17818</th>\n",
       "      <td>The Avengers</td>\n",
       "      <td>1.519558e+09</td>\n",
       "    </tr>\n",
       "    <tr>\n",
       "      <th>25084</th>\n",
       "      <td>Jurassic World</td>\n",
       "      <td>1.513529e+09</td>\n",
       "    </tr>\n",
       "    <tr>\n",
       "      <th>28830</th>\n",
       "      <td>Furious 7</td>\n",
       "      <td>1.506249e+09</td>\n",
       "    </tr>\n",
       "    <tr>\n",
       "      <th>26558</th>\n",
       "      <td>Avengers: Age of Ultron</td>\n",
       "      <td>1.405404e+09</td>\n",
       "    </tr>\n",
       "    <tr>\n",
       "      <th>17437</th>\n",
       "      <td>Harry Potter and the Deathly Hallows: Part 2</td>\n",
       "      <td>1.342000e+09</td>\n",
       "    </tr>\n",
       "    <tr>\n",
       "      <th>22110</th>\n",
       "      <td>Frozen</td>\n",
       "      <td>1.274219e+09</td>\n",
       "    </tr>\n",
       "    <tr>\n",
       "      <th>42222</th>\n",
       "      <td>Beauty and the Beast</td>\n",
       "      <td>1.262886e+09</td>\n",
       "    </tr>\n",
       "  </tbody>\n",
       "</table>\n",
       "</div>"
      ],
      "text/plain": [
       "                                              title       revenue\n",
       "14551                                        Avatar  2.787965e+09\n",
       "26555                  Star Wars: The Force Awakens  2.068224e+09\n",
       "1639                                        Titanic  1.845034e+09\n",
       "17818                                  The Avengers  1.519558e+09\n",
       "25084                                Jurassic World  1.513529e+09\n",
       "28830                                     Furious 7  1.506249e+09\n",
       "26558                       Avengers: Age of Ultron  1.405404e+09\n",
       "17437  Harry Potter and the Deathly Hallows: Part 2  1.342000e+09\n",
       "22110                                        Frozen  1.274219e+09\n",
       "42222                          Beauty and the Beast  1.262886e+09"
      ]
     },
     "execution_count": 9,
     "metadata": {},
     "output_type": "execute_result"
    }
   ],
   "source": [
    "top10_highest_grossing = meta_df.nlargest(10, 'revenue')[['title', 'revenue']]\n",
    "top10_highest_grossing"
   ]
  },
  {
   "cell_type": "markdown",
   "id": "81cc34dc",
   "metadata": {},
   "source": [
    "### 3. Genre Analysis\n",
    "- Create a new column that lists the genre of each movie.\n",
    "- Determine the most common movie genre.\n",
    "- Analyze the average rating by genre."
   ]
  },
  {
   "cell_type": "markdown",
   "id": "e54ec4a0",
   "metadata": {},
   "source": [
    "#### 3.1 Create a new column that lists the genre of each movie."
   ]
  },
  {
   "cell_type": "markdown",
   "id": "8644c5d7",
   "metadata": {},
   "source": [
    "我的理解是每个genres都是一行，每个电影对应n个genres\n",
    "\n",
    "用for十分的慢，不知道让不让用numpy，numpy快很多"
   ]
  },
  {
   "cell_type": "code",
   "execution_count": 10,
   "id": "9326d985",
   "metadata": {},
   "outputs": [],
   "source": [
    "import ast\n",
    "\n",
    "genres_df = pd.DataFrame()\n",
    "new_df = meta_df[['title','id','genres']]\n",
    "for i in range(len(new_df)):\n",
    "    item = new_df.iloc[i]\n",
    "    json = ast.literal_eval(item['genres'])\n",
    "    genres = pd.json_normalize(json)\n",
    "    genres[['movieId','title']] = item[['id','title']]\n",
    "    genres_df = pd.concat([genres_df, genres], ignore_index=True)"
   ]
  },
  {
   "cell_type": "code",
   "execution_count": 24,
   "id": "619cbbad",
   "metadata": {},
   "outputs": [
    {
     "data": {
      "text/html": [
       "<div>\n",
       "<style scoped>\n",
       "    .dataframe tbody tr th:only-of-type {\n",
       "        vertical-align: middle;\n",
       "    }\n",
       "\n",
       "    .dataframe tbody tr th {\n",
       "        vertical-align: top;\n",
       "    }\n",
       "\n",
       "    .dataframe thead th {\n",
       "        text-align: right;\n",
       "    }\n",
       "</style>\n",
       "<table border=\"1\" class=\"dataframe\">\n",
       "  <thead>\n",
       "    <tr style=\"text-align: right;\">\n",
       "      <th></th>\n",
       "      <th>id</th>\n",
       "      <th>genre</th>\n",
       "      <th>movieId</th>\n",
       "      <th>title</th>\n",
       "    </tr>\n",
       "  </thead>\n",
       "  <tbody>\n",
       "    <tr>\n",
       "      <th>0</th>\n",
       "      <td>16</td>\n",
       "      <td>Animation</td>\n",
       "      <td>862</td>\n",
       "      <td>Toy Story</td>\n",
       "    </tr>\n",
       "    <tr>\n",
       "      <th>1</th>\n",
       "      <td>35</td>\n",
       "      <td>Comedy</td>\n",
       "      <td>862</td>\n",
       "      <td>Toy Story</td>\n",
       "    </tr>\n",
       "    <tr>\n",
       "      <th>2</th>\n",
       "      <td>10751</td>\n",
       "      <td>Family</td>\n",
       "      <td>862</td>\n",
       "      <td>Toy Story</td>\n",
       "    </tr>\n",
       "    <tr>\n",
       "      <th>3</th>\n",
       "      <td>12</td>\n",
       "      <td>Adventure</td>\n",
       "      <td>8844</td>\n",
       "      <td>Jumanji</td>\n",
       "    </tr>\n",
       "    <tr>\n",
       "      <th>4</th>\n",
       "      <td>14</td>\n",
       "      <td>Fantasy</td>\n",
       "      <td>8844</td>\n",
       "      <td>Jumanji</td>\n",
       "    </tr>\n",
       "    <tr>\n",
       "      <th>...</th>\n",
       "      <td>...</td>\n",
       "      <td>...</td>\n",
       "      <td>...</td>\n",
       "      <td>...</td>\n",
       "    </tr>\n",
       "    <tr>\n",
       "      <th>91101</th>\n",
       "      <td>10751</td>\n",
       "      <td>Family</td>\n",
       "      <td>439050</td>\n",
       "      <td>Subdue</td>\n",
       "    </tr>\n",
       "    <tr>\n",
       "      <th>91102</th>\n",
       "      <td>18</td>\n",
       "      <td>Drama</td>\n",
       "      <td>111109</td>\n",
       "      <td>Century of Birthing</td>\n",
       "    </tr>\n",
       "    <tr>\n",
       "      <th>91103</th>\n",
       "      <td>28</td>\n",
       "      <td>Action</td>\n",
       "      <td>67758</td>\n",
       "      <td>Betrayal</td>\n",
       "    </tr>\n",
       "    <tr>\n",
       "      <th>91104</th>\n",
       "      <td>18</td>\n",
       "      <td>Drama</td>\n",
       "      <td>67758</td>\n",
       "      <td>Betrayal</td>\n",
       "    </tr>\n",
       "    <tr>\n",
       "      <th>91105</th>\n",
       "      <td>53</td>\n",
       "      <td>Thriller</td>\n",
       "      <td>67758</td>\n",
       "      <td>Betrayal</td>\n",
       "    </tr>\n",
       "  </tbody>\n",
       "</table>\n",
       "<p>91106 rows × 4 columns</p>\n",
       "</div>"
      ],
      "text/plain": [
       "          id      genre  movieId                title\n",
       "0         16  Animation      862            Toy Story\n",
       "1         35     Comedy      862            Toy Story\n",
       "2      10751     Family      862            Toy Story\n",
       "3         12  Adventure     8844              Jumanji\n",
       "4         14    Fantasy     8844              Jumanji\n",
       "...      ...        ...      ...                  ...\n",
       "91101  10751     Family   439050               Subdue\n",
       "91102     18      Drama   111109  Century of Birthing\n",
       "91103     28     Action    67758             Betrayal\n",
       "91104     18      Drama    67758             Betrayal\n",
       "91105     53   Thriller    67758             Betrayal\n",
       "\n",
       "[91106 rows x 4 columns]"
      ]
     },
     "execution_count": 24,
     "metadata": {},
     "output_type": "execute_result"
    }
   ],
   "source": [
    "# genres_df[['movieId',]] = genres_df[['movieId','id']].astype('int64')\n",
    "genres_df['id'] = genres_df['id'].astype('int64')\n",
    "genres_df.fillna(-1, inplace=True)\n",
    "genres_df['movieId'] = genres_df['movieId'].astype('int64')\n",
    "genres_df.columns = ['id','genre','movieId','title']\n",
    "genres_df"
   ]
  },
  {
   "cell_type": "markdown",
   "id": "3479c34e",
   "metadata": {},
   "source": [
    "#### 3.2 Determine the most common movie genre."
   ]
  },
  {
   "cell_type": "code",
   "execution_count": 25,
   "id": "cde454df",
   "metadata": {},
   "outputs": [
    {
     "name": "stdout",
     "output_type": "stream",
     "text": [
      "Most common movie genre: Drama\n",
      "Times: 20265\n"
     ]
    }
   ],
   "source": [
    "counts = genres_df['genre'].value_counts()\n",
    "print('Most common movie genre:',counts.idxmax())\n",
    "print('Times:',counts.max())"
   ]
  },
  {
   "cell_type": "markdown",
   "id": "3deb47d7",
   "metadata": {},
   "source": [
    "#### 3.3 Analyze the average rating by genre."
   ]
  },
  {
   "cell_type": "code",
   "execution_count": 26,
   "id": "f86eef3a",
   "metadata": {},
   "outputs": [
    {
     "data": {
      "text/html": [
       "<div>\n",
       "<style scoped>\n",
       "    .dataframe tbody tr th:only-of-type {\n",
       "        vertical-align: middle;\n",
       "    }\n",
       "\n",
       "    .dataframe tbody tr th {\n",
       "        vertical-align: top;\n",
       "    }\n",
       "\n",
       "    .dataframe thead th {\n",
       "        text-align: right;\n",
       "    }\n",
       "</style>\n",
       "<table border=\"1\" class=\"dataframe\">\n",
       "  <thead>\n",
       "    <tr style=\"text-align: right;\">\n",
       "      <th></th>\n",
       "      <th>rating</th>\n",
       "    </tr>\n",
       "    <tr>\n",
       "      <th>genre</th>\n",
       "      <th></th>\n",
       "    </tr>\n",
       "  </thead>\n",
       "  <tbody>\n",
       "    <tr>\n",
       "      <th>Action</th>\n",
       "      <td>3.558277</td>\n",
       "    </tr>\n",
       "    <tr>\n",
       "      <th>Adventure</th>\n",
       "      <td>3.503404</td>\n",
       "    </tr>\n",
       "    <tr>\n",
       "      <th>Animation</th>\n",
       "      <td>3.597373</td>\n",
       "    </tr>\n",
       "    <tr>\n",
       "      <th>Comedy</th>\n",
       "      <td>3.536900</td>\n",
       "    </tr>\n",
       "    <tr>\n",
       "      <th>Crime</th>\n",
       "      <td>3.572401</td>\n",
       "    </tr>\n",
       "    <tr>\n",
       "      <th>Documentary</th>\n",
       "      <td>3.485778</td>\n",
       "    </tr>\n",
       "    <tr>\n",
       "      <th>Drama</th>\n",
       "      <td>3.535949</td>\n",
       "    </tr>\n",
       "    <tr>\n",
       "      <th>Family</th>\n",
       "      <td>3.396431</td>\n",
       "    </tr>\n",
       "    <tr>\n",
       "      <th>Fantasy</th>\n",
       "      <td>3.507117</td>\n",
       "    </tr>\n",
       "    <tr>\n",
       "      <th>Foreign</th>\n",
       "      <td>3.495752</td>\n",
       "    </tr>\n",
       "    <tr>\n",
       "      <th>History</th>\n",
       "      <td>3.426299</td>\n",
       "    </tr>\n",
       "    <tr>\n",
       "      <th>Horror</th>\n",
       "      <td>3.485368</td>\n",
       "    </tr>\n",
       "    <tr>\n",
       "      <th>Music</th>\n",
       "      <td>3.441122</td>\n",
       "    </tr>\n",
       "    <tr>\n",
       "      <th>Mystery</th>\n",
       "      <td>3.653243</td>\n",
       "    </tr>\n",
       "    <tr>\n",
       "      <th>Romance</th>\n",
       "      <td>3.550434</td>\n",
       "    </tr>\n",
       "    <tr>\n",
       "      <th>Science Fiction</th>\n",
       "      <td>3.525670</td>\n",
       "    </tr>\n",
       "    <tr>\n",
       "      <th>TV Movie</th>\n",
       "      <td>3.595226</td>\n",
       "    </tr>\n",
       "    <tr>\n",
       "      <th>Thriller</th>\n",
       "      <td>3.562923</td>\n",
       "    </tr>\n",
       "    <tr>\n",
       "      <th>War</th>\n",
       "      <td>3.501808</td>\n",
       "    </tr>\n",
       "    <tr>\n",
       "      <th>Western</th>\n",
       "      <td>3.658921</td>\n",
       "    </tr>\n",
       "  </tbody>\n",
       "</table>\n",
       "</div>"
      ],
      "text/plain": [
       "                   rating\n",
       "genre                    \n",
       "Action           3.558277\n",
       "Adventure        3.503404\n",
       "Animation        3.597373\n",
       "Comedy           3.536900\n",
       "Crime            3.572401\n",
       "Documentary      3.485778\n",
       "Drama            3.535949\n",
       "Family           3.396431\n",
       "Fantasy          3.507117\n",
       "Foreign          3.495752\n",
       "History          3.426299\n",
       "Horror           3.485368\n",
       "Music            3.441122\n",
       "Mystery          3.653243\n",
       "Romance          3.550434\n",
       "Science Fiction  3.525670\n",
       "TV Movie         3.595226\n",
       "Thriller         3.562923\n",
       "War              3.501808\n",
       "Western          3.658921"
      ]
     },
     "execution_count": 26,
     "metadata": {},
     "output_type": "execute_result"
    }
   ],
   "source": [
    "genre_avg_df = pd.merge(genres_df,rating_df,on='movieId',how='right') \n",
    "avg_rating = genre_avg_df.groupby('genre')['rating'].mean()\n",
    "pd.DataFrame(avg_rating)"
   ]
  },
  {
   "cell_type": "markdown",
   "id": "349a43b5",
   "metadata": {},
   "source": [
    "### 4. Temporal Trends \n",
    "- Examine how the number of movies released has changed over time. \n",
    "- Investigate trends in movie revenues over the years"
   ]
  },
  {
   "cell_type": "markdown",
   "id": "c21f93fa",
   "metadata": {},
   "source": [
    "#### 4.1 Examine how the number of movies released has changed over time."
   ]
  },
  {
   "cell_type": "code",
   "execution_count": 53,
   "id": "4a2bef62",
   "metadata": {},
   "outputs": [
    {
     "data": {
      "image/png": "[encoded data removed]",
      "text/plain": [
       "<Figure size 640x480 with 1 Axes>"
      ]
     },
     "metadata": {},
     "output_type": "display_data"
    }
   ],
   "source": [
    "year_df = meta_df\n",
    "year_df['release_date'] = pd.to_datetime(meta_df['release_date']).dt.year\n",
    "year_counts = year_df.groupby('release_date').size()\n",
    "plt.plot(year_counts)\n",
    "plt.xlabel('year')\n",
    "plt.ylabel('number of movies released')\n",
    "plt.show()"
   ]
  },
  {
   "cell_type": "markdown",
   "id": "1d043798",
   "metadata": {},
   "source": [
    "#### 4.2 Investigate trends in movie revenues over the years"
   ]
  },
  {
   "cell_type": "code",
   "execution_count": 56,
   "id": "90639260",
   "metadata": {},
   "outputs": [
    {
     "data": {
      "image/png": "[encoded data removed]",
      "text/plain": [
       "<Figure size 640x480 with 1 Axes>"
      ]
     },
     "metadata": {},
     "output_type": "display_data"
    },
    {
     "data": {
      "image/png": "[encoded data removed]",
      "text/plain": [
       "<Figure size 640x480 with 1 Axes>"
      ]
     },
     "metadata": {},
     "output_type": "display_data"
    }
   ],
   "source": [
    "year_rev_df = year_df.groupby('release_date')['revenue']\n",
    "\n",
    "plt.plot(year_rev_df.sum())\n",
    "plt.xlabel('year')\n",
    "plt.ylabel('movie revenues sum')\n",
    "plt.show()\n",
    "\n",
    "plt.plot(year_rev_df.mean())\n",
    "plt.xlabel('year')\n",
    "plt.ylabel('average movie revenues')\n",
    "plt.show()"
   ]
  },
  {
   "cell_type": "markdown",
   "id": "3e63851b",
   "metadata": {},
   "source": [
    "### 5. Basic Calculations :\n",
    "- Calculate the average revenue of movies for each year.\n",
    "- Determine the average movie rating for each genre."
   ]
  },
  {
   "cell_type": "markdown",
   "id": "edf7ec99",
   "metadata": {},
   "source": [
    "#### 5.1 Calculate the average revenue of movies for each year.\n",
    "这题是不是和上面重了？"
   ]
  },
  {
   "cell_type": "code",
   "execution_count": 60,
   "id": "425a3a68",
   "metadata": {},
   "outputs": [
    {
     "data": {
      "text/html": [
       "<div>\n",
       "<style scoped>\n",
       "    .dataframe tbody tr th:only-of-type {\n",
       "        vertical-align: middle;\n",
       "    }\n",
       "\n",
       "    .dataframe tbody tr th {\n",
       "        vertical-align: top;\n",
       "    }\n",
       "\n",
       "    .dataframe thead th {\n",
       "        text-align: right;\n",
       "    }\n",
       "</style>\n",
       "<table border=\"1\" class=\"dataframe\">\n",
       "  <thead>\n",
       "    <tr style=\"text-align: right;\">\n",
       "      <th></th>\n",
       "      <th>revenue</th>\n",
       "    </tr>\n",
       "    <tr>\n",
       "      <th>release_date</th>\n",
       "      <th></th>\n",
       "    </tr>\n",
       "  </thead>\n",
       "  <tbody>\n",
       "    <tr>\n",
       "      <th>1874.0</th>\n",
       "      <td>0.000000e+00</td>\n",
       "    </tr>\n",
       "    <tr>\n",
       "      <th>1878.0</th>\n",
       "      <td>0.000000e+00</td>\n",
       "    </tr>\n",
       "    <tr>\n",
       "      <th>1883.0</th>\n",
       "      <td>0.000000e+00</td>\n",
       "    </tr>\n",
       "    <tr>\n",
       "      <th>1887.0</th>\n",
       "      <td>0.000000e+00</td>\n",
       "    </tr>\n",
       "    <tr>\n",
       "      <th>1888.0</th>\n",
       "      <td>0.000000e+00</td>\n",
       "    </tr>\n",
       "    <tr>\n",
       "      <th>...</th>\n",
       "      <td>...</td>\n",
       "    </tr>\n",
       "    <tr>\n",
       "      <th>2015.0</th>\n",
       "      <td>1.512827e+07</td>\n",
       "    </tr>\n",
       "    <tr>\n",
       "      <th>2016.0</th>\n",
       "      <td>1.901364e+07</td>\n",
       "    </tr>\n",
       "    <tr>\n",
       "      <th>2017.0</th>\n",
       "      <td>2.833815e+07</td>\n",
       "    </tr>\n",
       "    <tr>\n",
       "      <th>2018.0</th>\n",
       "      <td>0.000000e+00</td>\n",
       "    </tr>\n",
       "    <tr>\n",
       "      <th>2020.0</th>\n",
       "      <td>0.000000e+00</td>\n",
       "    </tr>\n",
       "  </tbody>\n",
       "</table>\n",
       "<p>135 rows × 1 columns</p>\n",
       "</div>"
      ],
      "text/plain": [
       "                   revenue\n",
       "release_date              \n",
       "1874.0        0.000000e+00\n",
       "1878.0        0.000000e+00\n",
       "1883.0        0.000000e+00\n",
       "1887.0        0.000000e+00\n",
       "1888.0        0.000000e+00\n",
       "...                    ...\n",
       "2015.0        1.512827e+07\n",
       "2016.0        1.901364e+07\n",
       "2017.0        2.833815e+07\n",
       "2018.0        0.000000e+00\n",
       "2020.0        0.000000e+00\n",
       "\n",
       "[135 rows x 1 columns]"
      ]
     },
     "execution_count": 60,
     "metadata": {},
     "output_type": "execute_result"
    }
   ],
   "source": [
    "pd.DataFrame(year_rev_df.mean())"
   ]
  },
  {
   "cell_type": "markdown",
   "id": "f9cce3d2",
   "metadata": {},
   "source": [
    "#### 5.2 Determine the average movie rating for each genre.\n",
    "这题是不是也和上面重了？"
   ]
  },
  {
   "cell_type": "code",
   "execution_count": 61,
   "id": "5a31dbe4",
   "metadata": {},
   "outputs": [
    {
     "data": {
      "text/html": [
       "<div>\n",
       "<style scoped>\n",
       "    .dataframe tbody tr th:only-of-type {\n",
       "        vertical-align: middle;\n",
       "    }\n",
       "\n",
       "    .dataframe tbody tr th {\n",
       "        vertical-align: top;\n",
       "    }\n",
       "\n",
       "    .dataframe thead th {\n",
       "        text-align: right;\n",
       "    }\n",
       "</style>\n",
       "<table border=\"1\" class=\"dataframe\">\n",
       "  <thead>\n",
       "    <tr style=\"text-align: right;\">\n",
       "      <th></th>\n",
       "      <th>rating</th>\n",
       "    </tr>\n",
       "    <tr>\n",
       "      <th>genre</th>\n",
       "      <th></th>\n",
       "    </tr>\n",
       "  </thead>\n",
       "  <tbody>\n",
       "    <tr>\n",
       "      <th>Action</th>\n",
       "      <td>3.558277</td>\n",
       "    </tr>\n",
       "    <tr>\n",
       "      <th>Adventure</th>\n",
       "      <td>3.503404</td>\n",
       "    </tr>\n",
       "    <tr>\n",
       "      <th>Animation</th>\n",
       "      <td>3.597373</td>\n",
       "    </tr>\n",
       "    <tr>\n",
       "      <th>Comedy</th>\n",
       "      <td>3.536900</td>\n",
       "    </tr>\n",
       "    <tr>\n",
       "      <th>Crime</th>\n",
       "      <td>3.572401</td>\n",
       "    </tr>\n",
       "    <tr>\n",
       "      <th>Documentary</th>\n",
       "      <td>3.485778</td>\n",
       "    </tr>\n",
       "    <tr>\n",
       "      <th>Drama</th>\n",
       "      <td>3.535949</td>\n",
       "    </tr>\n",
       "    <tr>\n",
       "      <th>Family</th>\n",
       "      <td>3.396431</td>\n",
       "    </tr>\n",
       "    <tr>\n",
       "      <th>Fantasy</th>\n",
       "      <td>3.507117</td>\n",
       "    </tr>\n",
       "    <tr>\n",
       "      <th>Foreign</th>\n",
       "      <td>3.495752</td>\n",
       "    </tr>\n",
       "    <tr>\n",
       "      <th>History</th>\n",
       "      <td>3.426299</td>\n",
       "    </tr>\n",
       "    <tr>\n",
       "      <th>Horror</th>\n",
       "      <td>3.485368</td>\n",
       "    </tr>\n",
       "    <tr>\n",
       "      <th>Music</th>\n",
       "      <td>3.441122</td>\n",
       "    </tr>\n",
       "    <tr>\n",
       "      <th>Mystery</th>\n",
       "      <td>3.653243</td>\n",
       "    </tr>\n",
       "    <tr>\n",
       "      <th>Romance</th>\n",
       "      <td>3.550434</td>\n",
       "    </tr>\n",
       "    <tr>\n",
       "      <th>Science Fiction</th>\n",
       "      <td>3.525670</td>\n",
       "    </tr>\n",
       "    <tr>\n",
       "      <th>TV Movie</th>\n",
       "      <td>3.595226</td>\n",
       "    </tr>\n",
       "    <tr>\n",
       "      <th>Thriller</th>\n",
       "      <td>3.562923</td>\n",
       "    </tr>\n",
       "    <tr>\n",
       "      <th>War</th>\n",
       "      <td>3.501808</td>\n",
       "    </tr>\n",
       "    <tr>\n",
       "      <th>Western</th>\n",
       "      <td>3.658921</td>\n",
       "    </tr>\n",
       "  </tbody>\n",
       "</table>\n",
       "</div>"
      ],
      "text/plain": [
       "                   rating\n",
       "genre                    \n",
       "Action           3.558277\n",
       "Adventure        3.503404\n",
       "Animation        3.597373\n",
       "Comedy           3.536900\n",
       "Crime            3.572401\n",
       "Documentary      3.485778\n",
       "Drama            3.535949\n",
       "Family           3.396431\n",
       "Fantasy          3.507117\n",
       "Foreign          3.495752\n",
       "History          3.426299\n",
       "Horror           3.485368\n",
       "Music            3.441122\n",
       "Mystery          3.653243\n",
       "Romance          3.550434\n",
       "Science Fiction  3.525670\n",
       "TV Movie         3.595226\n",
       "Thriller         3.562923\n",
       "War              3.501808\n",
       "Western          3.658921"
      ]
     },
     "execution_count": 61,
     "metadata": {},
     "output_type": "execute_result"
    }
   ],
   "source": [
    "pd.DataFrame(avg_rating)"
   ]
  },
  {
   "cell_type": "markdown",
   "id": "99dccc06",
   "metadata": {},
   "source": [
    "### 6. Insights and Conclusion:\n",
    "- Summarize your key findings from the EDA and Genre Analysis.\n",
    "- Discuss any interesting trends observed in the Temporal Trends section."
   ]
  },
  {
   "cell_type": "code",
   "execution_count": null,
   "id": "55a7a32d",
   "metadata": {},
   "outputs": [],
   "source": []
  }
 ],
 "metadata": {
  "kernelspec": {
   "display_name": "Python 3 (ipykernel)",
   "language": "python",
   "name": "python3"
  },
  "language_info": {
   "codemirror_mode": {
    "name": "ipython",
    "version": 3
   },
   "file_extension": ".py",
   "mimetype": "text/x-python",
   "name": "python",
   "nbconvert_exporter": "python",
   "pygments_lexer": "ipython3",
   "version": "3.9.17"
  }
 },
 "nbformat": 4,
 "nbformat_minor": 5
}
