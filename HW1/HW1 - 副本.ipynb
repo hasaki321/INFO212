{
 "cells": [
  {
   "cell_type": "code",
   "execution_count": 30,
   "id": "dbdcc759",
   "metadata": {
    "ExecuteTime": {
     "end_time": "2024-05-13T01:46:58.077037Z",
     "start_time": "2024-05-13T01:46:58.061004Z"
    }
   },
   "outputs": [],
   "source": [
    "import pandas as pd\n",
    "import matplotlib.pyplot as plt\n",
    "import numpy as np\n",
    "import os"
   ]
  },
  {
   "cell_type": "markdown",
   "id": "10b2983a",
   "metadata": {},
   "source": [
    "### Data Cleaning\n",
    "\n",
    "- Load the dataset using pandas.\n",
    "- Handle missing values and clean the data appropriately.\n",
    "- Convert data types if necessary (e.g., converting strings to numerical values)."
   ]
  },
  {
   "cell_type": "markdown",
   "id": "9ef0b99d",
   "metadata": {},
   "source": [
    "####  Load the dataset using pandas."
   ]
  },
  {
   "cell_type": "code",
   "execution_count": 31,
   "id": "f8d0dff1",
   "metadata": {
    "ExecuteTime": {
     "end_time": "2024-05-13T01:47:18.844389Z",
     "start_time": "2024-05-13T01:46:59.325668Z"
    },
    "scrolled": false
   },
   "outputs": [],
   "source": [
    "pwd = os.getcwd()\n",
    "data_dir = os.path.join(pwd,'datasets')\n",
    "files = os.listdir(data_dir)\n",
    "dfs = []\n",
    "\n",
    "for file in files:\n",
    "    if file.endswith('.csv'):\n",
    "        if file.endswith('_small.csv'): continue\n",
    "        path=str.replace(os.path.join(data_dir,file), \"\\\\\", \"/\")\n",
    "        df = pd.read_csv(path,low_memory=False)\n",
    "        dfs.append(df)"
   ]
  },
  {
   "cell_type": "markdown",
   "id": "af785164",
   "metadata": {},
   "source": [
    "#### Handle missing values and clean the data appropriately."
   ]
  },
  {
   "cell_type": "code",
   "execution_count": 32,
   "id": "0129c281",
   "metadata": {
    "ExecuteTime": {
     "end_time": "2024-05-13T01:47:19.117598Z",
     "start_time": "2024-05-13T01:47:18.844389Z"
    }
   },
   "outputs": [
    {
     "data": {
      "text/plain": [
       "[                                                    cast  \\\n",
       " 0      [{'cast_id': 14, 'character': 'Woody (voice)',...   \n",
       " 1      [{'cast_id': 1, 'character': 'Alan Parrish', '...   \n",
       " 2      [{'cast_id': 2, 'character': 'Max Goldman', 'c...   \n",
       " 3      [{'cast_id': 1, 'character': \"Savannah 'Vannah...   \n",
       " 4      [{'cast_id': 1, 'character': 'George Banks', '...   \n",
       " ...                                                  ...   \n",
       " 45471  [{'cast_id': 0, 'character': '', 'credit_id': ...   \n",
       " 45472  [{'cast_id': 1002, 'character': 'Sister Angela...   \n",
       " 45473  [{'cast_id': 6, 'character': 'Emily Shaw', 'cr...   \n",
       " 45474  [{'cast_id': 2, 'character': '', 'credit_id': ...   \n",
       " 45475                                                 []   \n",
       " \n",
       "                                                     crew      id  \n",
       " 0      [{'credit_id': '52fe4284c3a36847f8024f49', 'de...     862  \n",
       " 1      [{'credit_id': '52fe44bfc3a36847f80a7cd1', 'de...    8844  \n",
       " 2      [{'credit_id': '52fe466a9251416c75077a89', 'de...   15602  \n",
       " 3      [{'credit_id': '52fe44779251416c91011acb', 'de...   31357  \n",
       " 4      [{'credit_id': '52fe44959251416c75039ed7', 'de...   11862  \n",
       " ...                                                  ...     ...  \n",
       " 45471  [{'credit_id': '5894a97d925141426c00818c', 'de...  439050  \n",
       " 45472  [{'credit_id': '52fe4af1c3a36847f81e9b15', 'de...  111109  \n",
       " 45473  [{'credit_id': '52fe4776c3a368484e0c8387', 'de...   67758  \n",
       " 45474  [{'credit_id': '533bccebc3a36844cf0011a7', 'de...  227506  \n",
       " 45475  [{'credit_id': '593e676c92514105b702e68e', 'de...  461257  \n",
       " \n",
       " [45476 rows x 3 columns],\n",
       "            id                                           keywords\n",
       " 0         862  [{'id': 931, 'name': 'jealousy'}, {'id': 4290,...\n",
       " 1        8844  [{'id': 10090, 'name': 'board game'}, {'id': 1...\n",
       " 2       15602  [{'id': 1495, 'name': 'fishing'}, {'id': 12392...\n",
       " 3       31357  [{'id': 818, 'name': 'based on novel'}, {'id':...\n",
       " 4       11862  [{'id': 1009, 'name': 'baby'}, {'id': 1599, 'n...\n",
       " ...       ...                                                ...\n",
       " 46414  439050             [{'id': 10703, 'name': 'tragic love'}]\n",
       " 46415  111109  [{'id': 2679, 'name': 'artist'}, {'id': 14531,...\n",
       " 46416   67758                                                 []\n",
       " 46417  227506                                                 []\n",
       " 46418  461257                                                 []\n",
       " \n",
       " [46419 rows x 2 columns],\n",
       "        movieId   imdbId    tmdbId\n",
       " 0            1   114709     862.0\n",
       " 1            2   113497    8844.0\n",
       " 2            3   113228   15602.0\n",
       " 3            4   114885   31357.0\n",
       " 4            5   113041   11862.0\n",
       " ...        ...      ...       ...\n",
       " 45838   176269  6209470  439050.0\n",
       " 45839   176271  2028550  111109.0\n",
       " 45840   176273   303758   67758.0\n",
       " 45841   176275     8536  227506.0\n",
       " 45842   176279  6980792  461257.0\n",
       " \n",
       " [45843 rows x 3 columns],\n",
       "        adult                              belongs_to_collection    budget  \\\n",
       " 0      False  {'id': 10194, 'name': 'Toy Story Collection', ...  30000000   \n",
       " 1      False                                                 -1  65000000   \n",
       " 2      False  {'id': 119050, 'name': 'Grumpy Old Men Collect...         0   \n",
       " 3      False                                                 -1  16000000   \n",
       " 4      False  {'id': 96871, 'name': 'Father of the Bride Col...         0   \n",
       " ...      ...                                                ...       ...   \n",
       " 45461  False                                                 -1         0   \n",
       " 45462  False                                                 -1         0   \n",
       " 45463  False                                                 -1         0   \n",
       " 45464  False                                                 -1         0   \n",
       " 45465  False                                                 -1         0   \n",
       " \n",
       "                                                   genres  \\\n",
       " 0      [{'id': 16, 'name': 'Animation'}, {'id': 35, '...   \n",
       " 1      [{'id': 12, 'name': 'Adventure'}, {'id': 14, '...   \n",
       " 2      [{'id': 10749, 'name': 'Romance'}, {'id': 35, ...   \n",
       " 3      [{'id': 35, 'name': 'Comedy'}, {'id': 18, 'nam...   \n",
       " 4                         [{'id': 35, 'name': 'Comedy'}]   \n",
       " ...                                                  ...   \n",
       " 45461  [{'id': 18, 'name': 'Drama'}, {'id': 10751, 'n...   \n",
       " 45462                      [{'id': 18, 'name': 'Drama'}]   \n",
       " 45463  [{'id': 28, 'name': 'Action'}, {'id': 18, 'nam...   \n",
       " 45464                                                 []   \n",
       " 45465                                                 []   \n",
       " \n",
       "                                    homepage      id    imdb_id  \\\n",
       " 0      http://toystory.disney.com/toy-story     862  tt0114709   \n",
       " 1                                        -1    8844  tt0113497   \n",
       " 2                                        -1   15602  tt0113228   \n",
       " 3                                        -1   31357  tt0114885   \n",
       " 4                                        -1   11862  tt0113041   \n",
       " ...                                     ...     ...        ...   \n",
       " 45461  http://www.imdb.com/title/tt6209470/  439050  tt6209470   \n",
       " 45462                                    -1  111109  tt2028550   \n",
       " 45463                                    -1   67758  tt0303758   \n",
       " 45464                                    -1  227506  tt0008536   \n",
       " 45465                                    -1  461257  tt6980792   \n",
       " \n",
       "       original_language               original_title  \\\n",
       " 0                    en                    Toy Story   \n",
       " 1                    en                      Jumanji   \n",
       " 2                    en             Grumpier Old Men   \n",
       " 3                    en            Waiting to Exhale   \n",
       " 4                    en  Father of the Bride Part II   \n",
       " ...                 ...                          ...   \n",
       " 45461                fa                      رگ خواب   \n",
       " 45462                tl          Siglo ng Pagluluwal   \n",
       " 45463                en                     Betrayal   \n",
       " 45464                en          Satana likuyushchiy   \n",
       " 45465                en                     Queerama   \n",
       " \n",
       "                                                 overview  ... release_date  \\\n",
       " 0      Led by Woody, Andy's toys live happily in his ...  ...   1995-10-30   \n",
       " 1      When siblings Judy and Peter discover an encha...  ...   1995-12-15   \n",
       " 2      A family wedding reignites the ancient feud be...  ...   1995-12-22   \n",
       " 3      Cheated on, mistreated and stepped on, the wom...  ...   1995-12-22   \n",
       " 4      Just when George Banks has recovered from his ...  ...   1995-02-10   \n",
       " ...                                                  ...  ...          ...   \n",
       " 45461        Rising and falling between a man and woman.  ...           -1   \n",
       " 45462  An artist struggles to finish his work while a...  ...   2011-11-17   \n",
       " 45463  When one of her hits goes wrong, a professiona...  ...   2003-08-01   \n",
       " 45464  In a small town live two brothers, one a minis...  ...   1917-10-21   \n",
       " 45465  50 years after decriminalisation of homosexual...  ...   2017-06-09   \n",
       " \n",
       "            revenue runtime                                   spoken_languages  \\\n",
       " 0      373554033.0    81.0           [{'iso_639_1': 'en', 'name': 'English'}]   \n",
       " 1      262797249.0   104.0  [{'iso_639_1': 'en', 'name': 'English'}, {'iso...   \n",
       " 2              0.0   101.0           [{'iso_639_1': 'en', 'name': 'English'}]   \n",
       " 3       81452156.0   127.0           [{'iso_639_1': 'en', 'name': 'English'}]   \n",
       " 4       76578911.0   106.0           [{'iso_639_1': 'en', 'name': 'English'}]   \n",
       " ...            ...     ...                                                ...   \n",
       " 45461          0.0    90.0             [{'iso_639_1': 'fa', 'name': 'فارسی'}]   \n",
       " 45462          0.0   360.0                  [{'iso_639_1': 'tl', 'name': ''}]   \n",
       " 45463          0.0    90.0           [{'iso_639_1': 'en', 'name': 'English'}]   \n",
       " 45464          0.0    87.0                                                 []   \n",
       " 45465          0.0    75.0           [{'iso_639_1': 'en', 'name': 'English'}]   \n",
       " \n",
       "          status                                            tagline  \\\n",
       " 0      Released                                                 -1   \n",
       " 1      Released          Roll the dice and unleash the excitement!   \n",
       " 2      Released  Still Yelling. Still Fighting. Still Ready for...   \n",
       " 3      Released  Friends are the people who let you be yourself...   \n",
       " 4      Released  Just When His World Is Back To Normal... He's ...   \n",
       " ...         ...                                                ...   \n",
       " 45461  Released         Rising and falling between a man and woman   \n",
       " 45462  Released                                                 -1   \n",
       " 45463  Released                             A deadly game of wits.   \n",
       " 45464  Released                                                 -1   \n",
       " 45465  Released                                                 -1   \n",
       " \n",
       "                              title  video vote_average vote_count  \n",
       " 0                        Toy Story  False          7.7     5415.0  \n",
       " 1                          Jumanji  False          6.9     2413.0  \n",
       " 2                 Grumpier Old Men  False          6.5       92.0  \n",
       " 3                Waiting to Exhale  False          6.1       34.0  \n",
       " 4      Father of the Bride Part II  False          5.7      173.0  \n",
       " ...                            ...    ...          ...        ...  \n",
       " 45461                       Subdue  False          4.0        1.0  \n",
       " 45462          Century of Birthing  False          9.0        3.0  \n",
       " 45463                     Betrayal  False          3.8        6.0  \n",
       " 45464             Satan Triumphant  False          0.0        0.0  \n",
       " 45465                     Queerama  False          0.0        0.0  \n",
       " \n",
       " [45466 rows x 24 columns],\n",
       "           userId  movieId  rating   timestamp\n",
       " 0              1      110     1.0  1425941529\n",
       " 1              1      147     4.5  1425942435\n",
       " 2              1      858     5.0  1425941523\n",
       " 3              1     1221     5.0  1425941546\n",
       " 4              1     1246     5.0  1425941556\n",
       " ...          ...      ...     ...         ...\n",
       " 26024284  270896    58559     5.0  1257031564\n",
       " 26024285  270896    60069     5.0  1257032032\n",
       " 26024286  270896    63082     4.5  1257031764\n",
       " 26024287  270896    64957     4.5  1257033990\n",
       " 26024288  270896    71878     2.0  1257031858\n",
       " \n",
       " [26024289 rows x 4 columns]]"
      ]
     },
     "execution_count": 32,
     "metadata": {},
     "output_type": "execute_result"
    }
   ],
   "source": [
    "for df in dfs:\n",
    "    df.fillna(-1, inplace=True)\n",
    "dfs"
   ]
  },
  {
   "cell_type": "markdown",
   "id": "58fe1c48",
   "metadata": {},
   "source": [
    "#### Convert data types if necessary "
   ]
  },
  {
   "cell_type": "code",
   "execution_count": 33,
   "id": "55106b0a",
   "metadata": {
    "ExecuteTime": {
     "end_time": "2024-05-13T01:47:21.277125Z",
     "start_time": "2024-05-13T01:47:21.263838Z"
    }
   },
   "outputs": [],
   "source": [
    "meta_df = dfs[-2]\n",
    "rating_df = dfs[-1]"
   ]
  },
  {
   "cell_type": "code",
   "execution_count": 34,
   "id": "ed0fb312",
   "metadata": {
    "ExecuteTime": {
     "end_time": "2024-05-13T01:47:22.595293Z",
     "start_time": "2024-05-13T01:47:22.418207Z"
    }
   },
   "outputs": [
    {
     "name": "stdout",
     "output_type": "stream",
     "text": [
      "dataframe 1: object object int64 \n",
      "dataframe 2: int64 object \n",
      "dataframe 3: int64 int64 float64 \n",
      "dataframe 4: object object object object object object object object object object object object object object object float64 float64 object object object object object float64 float64 \n",
      "dataframe 5: int64 int64 float64 int64 \n",
      "Transformed:\n",
      "dataframe 1: object object int64 \n",
      "dataframe 2: int64 object \n",
      "dataframe 3: int64 int64 float64 \n",
      "dataframe 4: object object float64 object object float64 object object object object float64 object object object datetime64[ns] float64 float64 object object object object object float64 float64 \n",
      "dataframe 5: int64 int64 float64 int64 \n"
     ]
    }
   ],
   "source": [
    "# 可以发现df4中全是object，我们需要将其中一些列转化为可数值。\n",
    "# 一些true or false 需要转化为bool\n",
    "\n",
    "for i,df in enumerate(dfs):\n",
    "    types = ''\n",
    "    for col in df.columns:\n",
    "        types += str(df[col].dtype) + ' '\n",
    "    print(f\"dataframe {i+1}:\",types)\n",
    "    \n",
    "tf_columns = ['adult','video']\n",
    "columns = ['id','budget','popularity','revenue','runtime','vote_average','vote_count']\n",
    "for col in columns:\n",
    "    meta_df[col] = pd.to_numeric(meta_df[col], errors='coerce')\n",
    "for col in tf_columns:\n",
    "     meta_df['adult'].replace({\"False\": 0, \"True\": 1}, inplace=True)\n",
    "\n",
    "meta_df['imdb_id'] = meta_df['imdb_id'].str.replace('tt', '')\n",
    "meta_df['release_date'] = pd.to_datetime(meta_df['release_date'], errors='coerce')\n",
    "\n",
    "print(\"Transformed:\")\n",
    "for i,df in enumerate(dfs):\n",
    "    types = ''\n",
    "    for col in df.columns:\n",
    "        types += str(df[col].dtype) + ' '\n",
    "    print(f\"dataframe {i+1}:\",types)"
   ]
  },
  {
   "cell_type": "markdown",
   "id": "636290f8",
   "metadata": {},
   "source": [
    "### Exploratory Data Analysis\n",
    "- Generate summary statistics for the numerical columns.\n",
    "- Explore the distribution of movie ratings and revenues.\n",
    "- Identify the top 10 highest-grossing movies."
   ]
  },
  {
   "cell_type": "markdown",
   "id": "616d589d",
   "metadata": {},
   "source": [
    "#### Generate summary statistics for the numerical columns.\n",
    "```python\n",
    "statics_df = pd.merge(meta_df,dfs[-1], left_on='id', right_on='movieId',how='left')\n",
    "```"
   ]
  },
  {
   "cell_type": "code",
   "execution_count": 35,
   "id": "aacea4ce",
   "metadata": {
    "ExecuteTime": {
     "end_time": "2024-05-13T01:47:26.481389Z",
     "start_time": "2024-05-13T01:47:25.453894Z"
    }
   },
   "outputs": [
    {
     "data": {
      "text/html": [
       "<div>\n",
       "<style scoped>\n",
       "    .dataframe tbody tr th:only-of-type {\n",
       "        vertical-align: middle;\n",
       "    }\n",
       "\n",
       "    .dataframe tbody tr th {\n",
       "        vertical-align: top;\n",
       "    }\n",
       "\n",
       "    .dataframe thead th {\n",
       "        text-align: right;\n",
       "    }\n",
       "</style>\n",
       "<table border=\"1\" class=\"dataframe\">\n",
       "  <thead>\n",
       "    <tr style=\"text-align: right;\">\n",
       "      <th></th>\n",
       "      <th>revenue</th>\n",
       "      <th>runtime</th>\n",
       "      <th>popularity</th>\n",
       "      <th>vote_average</th>\n",
       "      <th>vote_count</th>\n",
       "      <th>budget</th>\n",
       "      <th>rating</th>\n",
       "    </tr>\n",
       "  </thead>\n",
       "  <tbody>\n",
       "    <tr>\n",
       "      <th>count</th>\n",
       "      <td>4.546600e+04</td>\n",
       "      <td>45466.000000</td>\n",
       "      <td>45465.000000</td>\n",
       "      <td>45466.000000</td>\n",
       "      <td>45466.000000</td>\n",
       "      <td>4.546300e+04</td>\n",
       "      <td>2.602429e+07</td>\n",
       "    </tr>\n",
       "    <tr>\n",
       "      <th>mean</th>\n",
       "      <td>1.120787e+07</td>\n",
       "      <td>93.577926</td>\n",
       "      <td>2.921047</td>\n",
       "      <td>5.617334</td>\n",
       "      <td>109.882704</td>\n",
       "      <td>4.224579e+06</td>\n",
       "      <td>3.528090e+00</td>\n",
       "    </tr>\n",
       "    <tr>\n",
       "      <th>std</th>\n",
       "      <td>6.432813e+07</td>\n",
       "      <td>38.970135</td>\n",
       "      <td>6.005225</td>\n",
       "      <td>1.925590</td>\n",
       "      <td>491.279605</td>\n",
       "      <td>1.742413e+07</td>\n",
       "      <td>1.065443e+00</td>\n",
       "    </tr>\n",
       "    <tr>\n",
       "      <th>min</th>\n",
       "      <td>-1.000000e+00</td>\n",
       "      <td>-1.000000</td>\n",
       "      <td>-1.000000</td>\n",
       "      <td>-1.000000</td>\n",
       "      <td>-1.000000</td>\n",
       "      <td>0.000000e+00</td>\n",
       "      <td>5.000000e-01</td>\n",
       "    </tr>\n",
       "    <tr>\n",
       "      <th>25%</th>\n",
       "      <td>0.000000e+00</td>\n",
       "      <td>85.000000</td>\n",
       "      <td>0.385825</td>\n",
       "      <td>5.000000</td>\n",
       "      <td>3.000000</td>\n",
       "      <td>0.000000e+00</td>\n",
       "      <td>3.000000e+00</td>\n",
       "    </tr>\n",
       "    <tr>\n",
       "      <th>50%</th>\n",
       "      <td>0.000000e+00</td>\n",
       "      <td>95.000000</td>\n",
       "      <td>1.127443</td>\n",
       "      <td>6.000000</td>\n",
       "      <td>10.000000</td>\n",
       "      <td>0.000000e+00</td>\n",
       "      <td>3.500000e+00</td>\n",
       "    </tr>\n",
       "    <tr>\n",
       "      <th>75%</th>\n",
       "      <td>0.000000e+00</td>\n",
       "      <td>107.000000</td>\n",
       "      <td>3.678394</td>\n",
       "      <td>6.800000</td>\n",
       "      <td>34.000000</td>\n",
       "      <td>0.000000e+00</td>\n",
       "      <td>4.000000e+00</td>\n",
       "    </tr>\n",
       "    <tr>\n",
       "      <th>max</th>\n",
       "      <td>2.787965e+09</td>\n",
       "      <td>1256.000000</td>\n",
       "      <td>547.488298</td>\n",
       "      <td>10.000000</td>\n",
       "      <td>14075.000000</td>\n",
       "      <td>3.800000e+08</td>\n",
       "      <td>5.000000e+00</td>\n",
       "    </tr>\n",
       "  </tbody>\n",
       "</table>\n",
       "</div>"
      ],
      "text/plain": [
       "            revenue       runtime    popularity  vote_average    vote_count  \\\n",
       "count  4.546600e+04  45466.000000  45465.000000  45466.000000  45466.000000   \n",
       "mean   1.120787e+07     93.577926      2.921047      5.617334    109.882704   \n",
       "std    6.432813e+07     38.970135      6.005225      1.925590    491.279605   \n",
       "min   -1.000000e+00     -1.000000     -1.000000     -1.000000     -1.000000   \n",
       "25%    0.000000e+00     85.000000      0.385825      5.000000      3.000000   \n",
       "50%    0.000000e+00     95.000000      1.127443      6.000000     10.000000   \n",
       "75%    0.000000e+00    107.000000      3.678394      6.800000     34.000000   \n",
       "max    2.787965e+09   1256.000000    547.488298     10.000000  14075.000000   \n",
       "\n",
       "             budget        rating  \n",
       "count  4.546300e+04  2.602429e+07  \n",
       "mean   4.224579e+06  3.528090e+00  \n",
       "std    1.742413e+07  1.065443e+00  \n",
       "min    0.000000e+00  5.000000e-01  \n",
       "25%    0.000000e+00  3.000000e+00  \n",
       "50%    0.000000e+00  3.500000e+00  \n",
       "75%    0.000000e+00  4.000000e+00  \n",
       "max    3.800000e+08  5.000000e+00  "
      ]
     },
     "execution_count": 35,
     "metadata": {},
     "output_type": "execute_result"
    }
   ],
   "source": [
    "colomns = ['adult','revenue','runtime','popularity','vote_average','vote_count','budget']\n",
    "\n",
    "df_d0 = pd.DataFrame(meta_df[colomns].describe())\n",
    "df_d1 = dfs[-1]['rating'].describe()\n",
    "df_d0['rating'] = df_d1\n",
    "df_d0"
   ]
  },
  {
   "cell_type": "markdown",
   "id": "571e3adb",
   "metadata": {},
   "source": [
    "#### Explore the distribution of movie ratings and revenues."
   ]
  },
  {
   "cell_type": "code",
   "execution_count": 97,
   "id": "f0a27de5",
   "metadata": {
    "ExecuteTime": {
     "end_time": "2024-05-13T03:57:27.813035Z",
     "start_time": "2024-05-13T03:57:26.382500Z"
    }
   },
   "outputs": [
    {
     "data": {
      "image/png": "[encoded data removed]",
      "text/plain": [
       "<Figure size 432x288 with 1 Axes>"
      ]
     },
     "metadata": {
      "needs_background": "light"
     },
     "output_type": "display_data"
    },
    {
     "data": {
      "image/png": "[encoded data removed]",
      "text/plain": [
       "<Figure size 432x288 with 1 Axes>"
      ]
     },
     "metadata": {
      "needs_background": "light"
     },
     "output_type": "display_data"
    }
   ],
   "source": [
    "plt.figure()\n",
    "plt.hist(dfs[-1]['rating'].dropna(), bins=20, edgecolor='black')\n",
    "plt.title('distribution')\n",
    "plt.xlabel('rating')\n",
    "plt.ylabel('pin')\n",
    "plt.show()\n",
    "\n",
    "filtered_data = meta_df[meta_df['revenue'] != 0]['revenue']\n",
    "\n",
    "plt.figure()\n",
    "plt.hist(filtered_data.dropna(), bins=40, edgecolor='black')\n",
    "plt.title('distribution')\n",
    "plt.xlabel('revenue')\n",
    "plt.ylabel('pin')\n",
    "plt.show()"
   ]
  },
  {
   "cell_type": "markdown",
   "id": "1f6001dc",
   "metadata": {},
   "source": [
    "#### Identify the top 10 highest-grossing movies."
   ]
  },
  {
   "cell_type": "code",
   "execution_count": 37,
   "id": "64e5d7c3",
   "metadata": {
    "ExecuteTime": {
     "end_time": "2024-05-13T01:47:29.051958Z",
     "start_time": "2024-05-13T01:47:29.028580Z"
    }
   },
   "outputs": [
    {
     "data": {
      "text/html": [
       "<div>\n",
       "<style scoped>\n",
       "    .dataframe tbody tr th:only-of-type {\n",
       "        vertical-align: middle;\n",
       "    }\n",
       "\n",
       "    .dataframe tbody tr th {\n",
       "        vertical-align: top;\n",
       "    }\n",
       "\n",
       "    .dataframe thead th {\n",
       "        text-align: right;\n",
       "    }\n",
       "</style>\n",
       "<table border=\"1\" class=\"dataframe\">\n",
       "  <thead>\n",
       "    <tr style=\"text-align: right;\">\n",
       "      <th></th>\n",
       "      <th>title</th>\n",
       "      <th>revenue</th>\n",
       "    </tr>\n",
       "  </thead>\n",
       "  <tbody>\n",
       "    <tr>\n",
       "      <th>14551</th>\n",
       "      <td>Avatar</td>\n",
       "      <td>2.787965e+09</td>\n",
       "    </tr>\n",
       "    <tr>\n",
       "      <th>26555</th>\n",
       "      <td>Star Wars: The Force Awakens</td>\n",
       "      <td>2.068224e+09</td>\n",
       "    </tr>\n",
       "    <tr>\n",
       "      <th>1639</th>\n",
       "      <td>Titanic</td>\n",
       "      <td>1.845034e+09</td>\n",
       "    </tr>\n",
       "    <tr>\n",
       "      <th>17818</th>\n",
       "      <td>The Avengers</td>\n",
       "      <td>1.519558e+09</td>\n",
       "    </tr>\n",
       "    <tr>\n",
       "      <th>25084</th>\n",
       "      <td>Jurassic World</td>\n",
       "      <td>1.513529e+09</td>\n",
       "    </tr>\n",
       "    <tr>\n",
       "      <th>28830</th>\n",
       "      <td>Furious 7</td>\n",
       "      <td>1.506249e+09</td>\n",
       "    </tr>\n",
       "    <tr>\n",
       "      <th>26558</th>\n",
       "      <td>Avengers: Age of Ultron</td>\n",
       "      <td>1.405404e+09</td>\n",
       "    </tr>\n",
       "    <tr>\n",
       "      <th>17437</th>\n",
       "      <td>Harry Potter and the Deathly Hallows: Part 2</td>\n",
       "      <td>1.342000e+09</td>\n",
       "    </tr>\n",
       "    <tr>\n",
       "      <th>22110</th>\n",
       "      <td>Frozen</td>\n",
       "      <td>1.274219e+09</td>\n",
       "    </tr>\n",
       "    <tr>\n",
       "      <th>42222</th>\n",
       "      <td>Beauty and the Beast</td>\n",
       "      <td>1.262886e+09</td>\n",
       "    </tr>\n",
       "  </tbody>\n",
       "</table>\n",
       "</div>"
      ],
      "text/plain": [
       "                                              title       revenue\n",
       "14551                                        Avatar  2.787965e+09\n",
       "26555                  Star Wars: The Force Awakens  2.068224e+09\n",
       "1639                                        Titanic  1.845034e+09\n",
       "17818                                  The Avengers  1.519558e+09\n",
       "25084                                Jurassic World  1.513529e+09\n",
       "28830                                     Furious 7  1.506249e+09\n",
       "26558                       Avengers: Age of Ultron  1.405404e+09\n",
       "17437  Harry Potter and the Deathly Hallows: Part 2  1.342000e+09\n",
       "22110                                        Frozen  1.274219e+09\n",
       "42222                          Beauty and the Beast  1.262886e+09"
      ]
     },
     "execution_count": 37,
     "metadata": {},
     "output_type": "execute_result"
    }
   ],
   "source": [
    "top10_highest_grossing = meta_df.nlargest(10, 'revenue')[['title', 'revenue']]\n",
    "top10_highest_grossing"
   ]
  },
  {
   "cell_type": "code",
   "execution_count": 38,
   "id": "cea6e587",
   "metadata": {
    "ExecuteTime": {
     "end_time": "2024-05-13T01:47:32.796903Z",
     "start_time": "2024-05-13T01:47:31.020937Z"
    }
   },
   "outputs": [
    {
     "data": {
      "text/html": [
       "<div>\n",
       "<style scoped>\n",
       "    .dataframe tbody tr th:only-of-type {\n",
       "        vertical-align: middle;\n",
       "    }\n",
       "\n",
       "    .dataframe tbody tr th {\n",
       "        vertical-align: top;\n",
       "    }\n",
       "\n",
       "    .dataframe thead th {\n",
       "        text-align: right;\n",
       "    }\n",
       "</style>\n",
       "<table border=\"1\" class=\"dataframe\">\n",
       "  <thead>\n",
       "    <tr style=\"text-align: right;\">\n",
       "      <th></th>\n",
       "      <th>name</th>\n",
       "      <th>frequence</th>\n",
       "    </tr>\n",
       "  </thead>\n",
       "  <tbody>\n",
       "    <tr>\n",
       "      <th>0</th>\n",
       "      <td>woman director</td>\n",
       "      <td>3115</td>\n",
       "    </tr>\n",
       "    <tr>\n",
       "      <th>1</th>\n",
       "      <td>independent film</td>\n",
       "      <td>1930</td>\n",
       "    </tr>\n",
       "    <tr>\n",
       "      <th>2</th>\n",
       "      <td>murder</td>\n",
       "      <td>1308</td>\n",
       "    </tr>\n",
       "    <tr>\n",
       "      <th>3</th>\n",
       "      <td>based on novel</td>\n",
       "      <td>835</td>\n",
       "    </tr>\n",
       "    <tr>\n",
       "      <th>4</th>\n",
       "      <td>musical</td>\n",
       "      <td>734</td>\n",
       "    </tr>\n",
       "    <tr>\n",
       "      <th>...</th>\n",
       "      <td>...</td>\n",
       "      <td>...</td>\n",
       "    </tr>\n",
       "    <tr>\n",
       "      <th>19951</th>\n",
       "      <td>longest film</td>\n",
       "      <td>1</td>\n",
       "    </tr>\n",
       "    <tr>\n",
       "      <th>19952</th>\n",
       "      <td>figher airplane</td>\n",
       "      <td>1</td>\n",
       "    </tr>\n",
       "    <tr>\n",
       "      <th>19953</th>\n",
       "      <td>all girl</td>\n",
       "      <td>1</td>\n",
       "    </tr>\n",
       "    <tr>\n",
       "      <th>19954</th>\n",
       "      <td>ancient scroll</td>\n",
       "      <td>1</td>\n",
       "    </tr>\n",
       "    <tr>\n",
       "      <th>19955</th>\n",
       "      <td>acab</td>\n",
       "      <td>1</td>\n",
       "    </tr>\n",
       "  </tbody>\n",
       "</table>\n",
       "<p>19956 rows × 2 columns</p>\n",
       "</div>"
      ],
      "text/plain": [
       "                   name  frequence\n",
       "0        woman director       3115\n",
       "1      independent film       1930\n",
       "2                murder       1308\n",
       "3        based on novel        835\n",
       "4               musical        734\n",
       "...                 ...        ...\n",
       "19951      longest film          1\n",
       "19952   figher airplane          1\n",
       "19953          all girl          1\n",
       "19954    ancient scroll          1\n",
       "19955              acab          1\n",
       "\n",
       "[19956 rows x 2 columns]"
      ]
     },
     "execution_count": 38,
     "metadata": {},
     "output_type": "execute_result"
    }
   ],
   "source": [
    "# count word frequency\n",
    "\n",
    "keyword_df = dfs[1].dropna()\n",
    "\n",
    "all_keywords = pd.Series([keyword[\"name\"] for sublist in keyword_df[\"keywords\"].apply(eval) for keyword in sublist])\n",
    "\n",
    "word_frequency = all_keywords.value_counts().reset_index()\n",
    "word_frequency.columns = [\"name\", \"frequence\"]\n",
    "\n",
    "word_frequency"
   ]
  },
  {
   "cell_type": "code",
   "execution_count": 63,
   "id": "c527763a",
   "metadata": {
    "ExecuteTime": {
     "end_time": "2024-05-13T02:48:14.012603Z",
     "start_time": "2024-05-13T02:48:13.773266Z"
    }
   },
   "outputs": [
    {
     "data": {
      "image/png": "[encoded data removed]",
      "text/plain": [
       "<Figure size 720x576 with 1 Axes>"
      ]
     },
     "metadata": {},
     "output_type": "display_data"
    }
   ],
   "source": [
    "top10_highes_word_frequence=word_frequency.sort_values(by=\"frequence\", ascending=False).head(15)\n",
    "plt.figure(figsize=(10, 8))\n",
    "plt.pie(top10_highes_word_frequence['frequence'], labels=top10_highes_word_frequence[\"name\"], autopct='%1.1f%%', startangle=140)\n",
    "plt.axis('equal') \n",
    "plt.title('Top 15 Word Frequencies')\n",
    "plt.show()"
   ]
  },
  {
   "cell_type": "markdown",
   "id": "81cc34dc",
   "metadata": {},
   "source": [
    "### Genre Analysis\n",
    "- Create a new column that lists the genre of each movie.\n",
    "- Determine the most common movie genre.\n",
    "- Analyze the average rating by genre."
   ]
  },
  {
   "cell_type": "markdown",
   "id": "e54ec4a0",
   "metadata": {},
   "source": [
    "#### Create a new column that lists the genre of each movie."
   ]
  },
  {
   "cell_type": "code",
   "execution_count": null,
   "id": "15a27039",
   "metadata": {},
   "outputs": [],
   "source": [
    "meta_df[\"genres\"] = meta_df[\"genres\"].apply(lambda x: eval(x))"
   ]
  },
  {
   "cell_type": "code",
   "execution_count": 39,
   "id": "619cbbad",
   "metadata": {
    "ExecuteTime": {
     "end_time": "2024-05-13T01:47:43.578269Z",
     "start_time": "2024-05-13T01:47:42.061381Z"
    }
   },
   "outputs": [
    {
     "data": {
      "text/html": [
       "<div>\n",
       "<style scoped>\n",
       "    .dataframe tbody tr th:only-of-type {\n",
       "        vertical-align: middle;\n",
       "    }\n",
       "\n",
       "    .dataframe tbody tr th {\n",
       "        vertical-align: top;\n",
       "    }\n",
       "\n",
       "    .dataframe thead th {\n",
       "        text-align: right;\n",
       "    }\n",
       "</style>\n",
       "<table border=\"1\" class=\"dataframe\">\n",
       "  <thead>\n",
       "    <tr style=\"text-align: right;\">\n",
       "      <th></th>\n",
       "      <th>movieId</th>\n",
       "      <th>title</th>\n",
       "      <th>genre</th>\n",
       "    </tr>\n",
       "  </thead>\n",
       "  <tbody>\n",
       "    <tr>\n",
       "      <th>0</th>\n",
       "      <td>862.0</td>\n",
       "      <td>Toy Story</td>\n",
       "      <td>Animation</td>\n",
       "    </tr>\n",
       "    <tr>\n",
       "      <th>1</th>\n",
       "      <td>862.0</td>\n",
       "      <td>Toy Story</td>\n",
       "      <td>Comedy</td>\n",
       "    </tr>\n",
       "    <tr>\n",
       "      <th>2</th>\n",
       "      <td>862.0</td>\n",
       "      <td>Toy Story</td>\n",
       "      <td>Family</td>\n",
       "    </tr>\n",
       "    <tr>\n",
       "      <th>3</th>\n",
       "      <td>8844.0</td>\n",
       "      <td>Jumanji</td>\n",
       "      <td>Adventure</td>\n",
       "    </tr>\n",
       "    <tr>\n",
       "      <th>4</th>\n",
       "      <td>8844.0</td>\n",
       "      <td>Jumanji</td>\n",
       "      <td>Fantasy</td>\n",
       "    </tr>\n",
       "    <tr>\n",
       "      <th>...</th>\n",
       "      <td>...</td>\n",
       "      <td>...</td>\n",
       "      <td>...</td>\n",
       "    </tr>\n",
       "    <tr>\n",
       "      <th>93543</th>\n",
       "      <td>67758.0</td>\n",
       "      <td>Betrayal</td>\n",
       "      <td>Action</td>\n",
       "    </tr>\n",
       "    <tr>\n",
       "      <th>93544</th>\n",
       "      <td>67758.0</td>\n",
       "      <td>Betrayal</td>\n",
       "      <td>Drama</td>\n",
       "    </tr>\n",
       "    <tr>\n",
       "      <th>93545</th>\n",
       "      <td>67758.0</td>\n",
       "      <td>Betrayal</td>\n",
       "      <td>Thriller</td>\n",
       "    </tr>\n",
       "    <tr>\n",
       "      <th>93546</th>\n",
       "      <td>227506.0</td>\n",
       "      <td>Satan Triumphant</td>\n",
       "      <td>unknown</td>\n",
       "    </tr>\n",
       "    <tr>\n",
       "      <th>93547</th>\n",
       "      <td>461257.0</td>\n",
       "      <td>Queerama</td>\n",
       "      <td>unknown</td>\n",
       "    </tr>\n",
       "  </tbody>\n",
       "</table>\n",
       "<p>93548 rows × 3 columns</p>\n",
       "</div>"
      ],
      "text/plain": [
       "        movieId             title      genre\n",
       "0         862.0         Toy Story  Animation\n",
       "1         862.0         Toy Story     Comedy\n",
       "2         862.0         Toy Story     Family\n",
       "3        8844.0           Jumanji  Adventure\n",
       "4        8844.0           Jumanji    Fantasy\n",
       "...         ...               ...        ...\n",
       "93543   67758.0          Betrayal     Action\n",
       "93544   67758.0          Betrayal      Drama\n",
       "93545   67758.0          Betrayal   Thriller\n",
       "93546  227506.0  Satan Triumphant    unknown\n",
       "93547  461257.0          Queerama    unknown\n",
       "\n",
       "[93548 rows x 3 columns]"
      ]
     },
     "execution_count": 39,
     "metadata": {},
     "output_type": "execute_result"
    }
   ],
   "source": [
    "meta_df['genres'] = meta_df['genres'].apply(lambda x: [{'name':'unknown'}] if x == [] else x)\n",
    "\n",
    "genres_expanded = np.concatenate(meta_df['genres'])\n",
    "title_expanded = np.repeat(meta_df['title'], [len(genre) for genre in meta_df['genres']])\n",
    "id_expanded = np.repeat(meta_df['id'], [len(genre) for genre in meta_df['genres']])\n",
    "\n",
    "new_df = pd.DataFrame({'movieId': id_expanded, 'title': title_expanded, 'genre': genres_expanded})\n",
    "\n",
    "new_df['genre'] = new_df[\"genre\"].apply(lambda row: row[\"name\"])\n",
    "genres_df=new_df.reset_index()\n",
    "genres_df=genres_df.drop(columns=\"index\")\n",
    "genres_df"
   ]
  },
  {
   "cell_type": "markdown",
   "id": "3479c34e",
   "metadata": {},
   "source": [
    "#### Determine the most common movie genre."
   ]
  },
  {
   "cell_type": "code",
   "execution_count": 24,
   "id": "cde454df",
   "metadata": {
    "ExecuteTime": {
     "end_time": "2024-05-13T01:41:18.357478Z",
     "start_time": "2024-05-13T01:41:18.342703Z"
    }
   },
   "outputs": [
    {
     "name": "stdout",
     "output_type": "stream",
     "text": [
      "Most common movie genre: Drama\n",
      "Times: 20265\n"
     ]
    }
   ],
   "source": [
    "counts = genres_df['genre'].value_counts()\n",
    "print('Most common movie genre:',counts.idxmax())\n",
    "print('Times:',counts.max())"
   ]
  },
  {
   "cell_type": "markdown",
   "id": "3deb47d7",
   "metadata": {},
   "source": [
    "#### Analyze the average rating by genre."
   ]
  },
  {
   "cell_type": "code",
   "execution_count": 48,
   "id": "f86eef3a",
   "metadata": {
    "ExecuteTime": {
     "end_time": "2024-05-13T02:36:02.690616Z",
     "start_time": "2024-05-13T02:35:44.995804Z"
    }
   },
   "outputs": [],
   "source": [
    "genre_avg_df = pd.merge(genres_df,rating_df,on='movieId',how='right') \n",
    "avg_rating = pd.DataFrame(genre_avg_df.groupby('genre')['rating'].mean())"
   ]
  },
  {
   "cell_type": "code",
   "execution_count": 82,
   "id": "4878bd5f",
   "metadata": {
    "ExecuteTime": {
     "end_time": "2024-05-13T03:00:01.999283Z",
     "start_time": "2024-05-13T03:00:01.990150Z"
    }
   },
   "outputs": [
    {
     "data": {
      "text/html": [
       "<div>\n",
       "<style scoped>\n",
       "    .dataframe tbody tr th:only-of-type {\n",
       "        vertical-align: middle;\n",
       "    }\n",
       "\n",
       "    .dataframe tbody tr th {\n",
       "        vertical-align: top;\n",
       "    }\n",
       "\n",
       "    .dataframe thead th {\n",
       "        text-align: right;\n",
       "    }\n",
       "</style>\n",
       "<table border=\"1\" class=\"dataframe\">\n",
       "  <thead>\n",
       "    <tr style=\"text-align: right;\">\n",
       "      <th></th>\n",
       "      <th>rating</th>\n",
       "    </tr>\n",
       "    <tr>\n",
       "      <th>genre</th>\n",
       "      <th></th>\n",
       "    </tr>\n",
       "  </thead>\n",
       "  <tbody>\n",
       "    <tr>\n",
       "      <th>Action</th>\n",
       "      <td>3.558277</td>\n",
       "    </tr>\n",
       "    <tr>\n",
       "      <th>Adventure</th>\n",
       "      <td>3.503404</td>\n",
       "    </tr>\n",
       "    <tr>\n",
       "      <th>Animation</th>\n",
       "      <td>3.597373</td>\n",
       "    </tr>\n",
       "    <tr>\n",
       "      <th>Comedy</th>\n",
       "      <td>3.536900</td>\n",
       "    </tr>\n",
       "    <tr>\n",
       "      <th>Crime</th>\n",
       "      <td>3.572401</td>\n",
       "    </tr>\n",
       "    <tr>\n",
       "      <th>Documentary</th>\n",
       "      <td>3.485778</td>\n",
       "    </tr>\n",
       "    <tr>\n",
       "      <th>Drama</th>\n",
       "      <td>3.535949</td>\n",
       "    </tr>\n",
       "    <tr>\n",
       "      <th>Family</th>\n",
       "      <td>3.396431</td>\n",
       "    </tr>\n",
       "    <tr>\n",
       "      <th>Fantasy</th>\n",
       "      <td>3.507117</td>\n",
       "    </tr>\n",
       "    <tr>\n",
       "      <th>Foreign</th>\n",
       "      <td>3.495752</td>\n",
       "    </tr>\n",
       "    <tr>\n",
       "      <th>History</th>\n",
       "      <td>3.426299</td>\n",
       "    </tr>\n",
       "    <tr>\n",
       "      <th>Horror</th>\n",
       "      <td>3.485368</td>\n",
       "    </tr>\n",
       "    <tr>\n",
       "      <th>Music</th>\n",
       "      <td>3.441122</td>\n",
       "    </tr>\n",
       "    <tr>\n",
       "      <th>Mystery</th>\n",
       "      <td>3.653243</td>\n",
       "    </tr>\n",
       "    <tr>\n",
       "      <th>Romance</th>\n",
       "      <td>3.550434</td>\n",
       "    </tr>\n",
       "    <tr>\n",
       "      <th>Science Fiction</th>\n",
       "      <td>3.525670</td>\n",
       "    </tr>\n",
       "    <tr>\n",
       "      <th>TV Movie</th>\n",
       "      <td>3.595226</td>\n",
       "    </tr>\n",
       "    <tr>\n",
       "      <th>Thriller</th>\n",
       "      <td>3.562923</td>\n",
       "    </tr>\n",
       "    <tr>\n",
       "      <th>War</th>\n",
       "      <td>3.501808</td>\n",
       "    </tr>\n",
       "    <tr>\n",
       "      <th>Western</th>\n",
       "      <td>3.658921</td>\n",
       "    </tr>\n",
       "    <tr>\n",
       "      <th>unknown</th>\n",
       "      <td>3.458762</td>\n",
       "    </tr>\n",
       "  </tbody>\n",
       "</table>\n",
       "</div>"
      ],
      "text/plain": [
       "                   rating\n",
       "genre                    \n",
       "Action           3.558277\n",
       "Adventure        3.503404\n",
       "Animation        3.597373\n",
       "Comedy           3.536900\n",
       "Crime            3.572401\n",
       "Documentary      3.485778\n",
       "Drama            3.535949\n",
       "Family           3.396431\n",
       "Fantasy          3.507117\n",
       "Foreign          3.495752\n",
       "History          3.426299\n",
       "Horror           3.485368\n",
       "Music            3.441122\n",
       "Mystery          3.653243\n",
       "Romance          3.550434\n",
       "Science Fiction  3.525670\n",
       "TV Movie         3.595226\n",
       "Thriller         3.562923\n",
       "War              3.501808\n",
       "Western          3.658921\n",
       "unknown          3.458762"
      ]
     },
     "execution_count": 82,
     "metadata": {},
     "output_type": "execute_result"
    }
   ],
   "source": [
    "avg_rating"
   ]
  },
  {
   "cell_type": "code",
   "execution_count": 93,
   "id": "4e99b774",
   "metadata": {
    "ExecuteTime": {
     "end_time": "2024-05-13T03:08:57.538517Z",
     "start_time": "2024-05-13T03:08:57.235848Z"
    }
   },
   "outputs": [
    {
     "data": {
      "image/png": "[encoded data removed]",
      "text/plain": [
       "<Figure size 1728x432 with 1 Axes>"
      ]
     },
     "metadata": {
      "needs_background": "light"
     },
     "output_type": "display_data"
    }
   ],
   "source": [
    "sorted_avg_rating=avg_rating.sort_values(by=\"rating\", ascending=False)\n",
    "plt.figure(figsize=(24, 6))\n",
    "plt.bar(sorted_avg_rating.index, sorted_avg_rating[\"rating\"], color='skyblue')\n",
    "plt.ylim(3, 3.7)\n",
    "plt.title('Average Rating of Movies by Genre')\n",
    "plt.xlabel(\"genre\")\n",
    "plt.ylabel(\"rating\")\n",
    "plt.show()"
   ]
  },
  {
   "cell_type": "markdown",
   "id": "349a43b5",
   "metadata": {},
   "source": [
    "### Temporal Trends \n",
    "- Examine how the number of movies released has changed over time. \n",
    "- Investigate trends in movie revenues over the years"
   ]
  },
  {
   "cell_type": "markdown",
   "id": "c21f93fa",
   "metadata": {},
   "source": [
    "#### Examine how the number of movies released has changed over time."
   ]
  },
  {
   "cell_type": "code",
   "execution_count": 26,
   "id": "4a2bef62",
   "metadata": {
    "ExecuteTime": {
     "end_time": "2024-05-13T01:41:52.286600Z",
     "start_time": "2024-05-13T01:41:52.098803Z"
    }
   },
   "outputs": [
    {
     "data": {
      "image/png": "[encoded data removed]",
      "text/plain": [
       "<Figure size 432x288 with 1 Axes>"
      ]
     },
     "metadata": {
      "needs_background": "light"
     },
     "output_type": "display_data"
    }
   ],
   "source": [
    "year_df = meta_df\n",
    "year_df['release_date'] = pd.to_datetime(meta_df['release_date']).dt.year\n",
    "year_counts = year_df.groupby('release_date').size()\n",
    "plt.plot(year_counts)\n",
    "plt.xlabel('year')\n",
    "plt.ylabel('number of movies released')\n",
    "plt.show()"
   ]
  },
  {
   "cell_type": "markdown",
   "id": "1d043798",
   "metadata": {},
   "source": [
    "#### 4.2 Investigate trends in movie revenues over the years"
   ]
  },
  {
   "cell_type": "code",
   "execution_count": 27,
   "id": "90639260",
   "metadata": {
    "ExecuteTime": {
     "end_time": "2024-05-13T01:41:55.231875Z",
     "start_time": "2024-05-13T01:41:54.933746Z"
    }
   },
   "outputs": [
    {
     "data": {
      "image/png": "[encoded data removed]",
      "text/plain": [
       "<Figure size 432x288 with 1 Axes>"
      ]
     },
     "metadata": {
      "needs_background": "light"
     },
     "output_type": "display_data"
    },
    {
     "data": {
      "image/png": "[encoded data removed]",
      "text/plain": [
       "<Figure size 432x288 with 1 Axes>"
      ]
     },
     "metadata": {
      "needs_background": "light"
     },
     "output_type": "display_data"
    }
   ],
   "source": [
    "year_rev_df = year_df.groupby('release_date')['revenue']\n",
    "\n",
    "plt.plot(year_rev_df.sum())\n",
    "plt.xlabel('year')\n",
    "plt.ylabel('movie revenues sum')\n",
    "plt.show()\n",
    "\n",
    "plt.plot(year_rev_df.mean())\n",
    "plt.xlabel('year')\n",
    "plt.ylabel('average movie revenues')\n",
    "plt.show()"
   ]
  },
  {
   "cell_type": "markdown",
   "id": "3e63851b",
   "metadata": {},
   "source": [
    "### 5. Basic Calculations :\n",
    "- Calculate the average revenue of movies for each year.\n",
    "- Determine the average movie rating for each genre."
   ]
  },
  {
   "cell_type": "markdown",
   "id": "edf7ec99",
   "metadata": {},
   "source": [
    "#### 5.1 Calculate the average revenue of movies for each year."
   ]
  },
  {
   "cell_type": "code",
   "execution_count": 28,
   "id": "425a3a68",
   "metadata": {
    "ExecuteTime": {
     "end_time": "2024-05-13T01:41:59.202352Z",
     "start_time": "2024-05-13T01:41:59.178027Z"
    }
   },
   "outputs": [
    {
     "data": {
      "text/html": [
       "<div>\n",
       "<style scoped>\n",
       "    .dataframe tbody tr th:only-of-type {\n",
       "        vertical-align: middle;\n",
       "    }\n",
       "\n",
       "    .dataframe tbody tr th {\n",
       "        vertical-align: top;\n",
       "    }\n",
       "\n",
       "    .dataframe thead th {\n",
       "        text-align: right;\n",
       "    }\n",
       "</style>\n",
       "<table border=\"1\" class=\"dataframe\">\n",
       "  <thead>\n",
       "    <tr style=\"text-align: right;\">\n",
       "      <th></th>\n",
       "      <th>revenue</th>\n",
       "    </tr>\n",
       "    <tr>\n",
       "      <th>release_date</th>\n",
       "      <th></th>\n",
       "    </tr>\n",
       "  </thead>\n",
       "  <tbody>\n",
       "    <tr>\n",
       "      <th>1874.0</th>\n",
       "      <td>0.000000e+00</td>\n",
       "    </tr>\n",
       "    <tr>\n",
       "      <th>1878.0</th>\n",
       "      <td>0.000000e+00</td>\n",
       "    </tr>\n",
       "    <tr>\n",
       "      <th>1883.0</th>\n",
       "      <td>0.000000e+00</td>\n",
       "    </tr>\n",
       "    <tr>\n",
       "      <th>1887.0</th>\n",
       "      <td>0.000000e+00</td>\n",
       "    </tr>\n",
       "    <tr>\n",
       "      <th>1888.0</th>\n",
       "      <td>0.000000e+00</td>\n",
       "    </tr>\n",
       "    <tr>\n",
       "      <th>...</th>\n",
       "      <td>...</td>\n",
       "    </tr>\n",
       "    <tr>\n",
       "      <th>2015.0</th>\n",
       "      <td>1.512827e+07</td>\n",
       "    </tr>\n",
       "    <tr>\n",
       "      <th>2016.0</th>\n",
       "      <td>1.901364e+07</td>\n",
       "    </tr>\n",
       "    <tr>\n",
       "      <th>2017.0</th>\n",
       "      <td>2.833815e+07</td>\n",
       "    </tr>\n",
       "    <tr>\n",
       "      <th>2018.0</th>\n",
       "      <td>0.000000e+00</td>\n",
       "    </tr>\n",
       "    <tr>\n",
       "      <th>2020.0</th>\n",
       "      <td>0.000000e+00</td>\n",
       "    </tr>\n",
       "  </tbody>\n",
       "</table>\n",
       "<p>135 rows × 1 columns</p>\n",
       "</div>"
      ],
      "text/plain": [
       "                   revenue\n",
       "release_date              \n",
       "1874.0        0.000000e+00\n",
       "1878.0        0.000000e+00\n",
       "1883.0        0.000000e+00\n",
       "1887.0        0.000000e+00\n",
       "1888.0        0.000000e+00\n",
       "...                    ...\n",
       "2015.0        1.512827e+07\n",
       "2016.0        1.901364e+07\n",
       "2017.0        2.833815e+07\n",
       "2018.0        0.000000e+00\n",
       "2020.0        0.000000e+00\n",
       "\n",
       "[135 rows x 1 columns]"
      ]
     },
     "execution_count": 28,
     "metadata": {},
     "output_type": "execute_result"
    }
   ],
   "source": [
    "pd.DataFrame(year_rev_df.mean())"
   ]
  },
  {
   "cell_type": "markdown",
   "id": "f9cce3d2",
   "metadata": {},
   "source": [
    "#### 5.2 Determine the average movie rating for each genre"
   ]
  },
  {
   "cell_type": "code",
   "execution_count": 29,
   "id": "5a31dbe4",
   "metadata": {
    "ExecuteTime": {
     "end_time": "2024-05-13T01:42:01.689445Z",
     "start_time": "2024-05-13T01:42:01.674416Z"
    }
   },
   "outputs": [
    {
     "data": {
      "text/html": [
       "<div>\n",
       "<style scoped>\n",
       "    .dataframe tbody tr th:only-of-type {\n",
       "        vertical-align: middle;\n",
       "    }\n",
       "\n",
       "    .dataframe tbody tr th {\n",
       "        vertical-align: top;\n",
       "    }\n",
       "\n",
       "    .dataframe thead th {\n",
       "        text-align: right;\n",
       "    }\n",
       "</style>\n",
       "<table border=\"1\" class=\"dataframe\">\n",
       "  <thead>\n",
       "    <tr style=\"text-align: right;\">\n",
       "      <th></th>\n",
       "      <th>rating</th>\n",
       "    </tr>\n",
       "    <tr>\n",
       "      <th>genre</th>\n",
       "      <th></th>\n",
       "    </tr>\n",
       "  </thead>\n",
       "  <tbody>\n",
       "    <tr>\n",
       "      <th>Action</th>\n",
       "      <td>3.558277</td>\n",
       "    </tr>\n",
       "    <tr>\n",
       "      <th>Adventure</th>\n",
       "      <td>3.503404</td>\n",
       "    </tr>\n",
       "    <tr>\n",
       "      <th>Animation</th>\n",
       "      <td>3.597373</td>\n",
       "    </tr>\n",
       "    <tr>\n",
       "      <th>Comedy</th>\n",
       "      <td>3.536900</td>\n",
       "    </tr>\n",
       "    <tr>\n",
       "      <th>Crime</th>\n",
       "      <td>3.572401</td>\n",
       "    </tr>\n",
       "    <tr>\n",
       "      <th>Documentary</th>\n",
       "      <td>3.485778</td>\n",
       "    </tr>\n",
       "    <tr>\n",
       "      <th>Drama</th>\n",
       "      <td>3.535949</td>\n",
       "    </tr>\n",
       "    <tr>\n",
       "      <th>Family</th>\n",
       "      <td>3.396431</td>\n",
       "    </tr>\n",
       "    <tr>\n",
       "      <th>Fantasy</th>\n",
       "      <td>3.507117</td>\n",
       "    </tr>\n",
       "    <tr>\n",
       "      <th>Foreign</th>\n",
       "      <td>3.495752</td>\n",
       "    </tr>\n",
       "    <tr>\n",
       "      <th>History</th>\n",
       "      <td>3.426299</td>\n",
       "    </tr>\n",
       "    <tr>\n",
       "      <th>Horror</th>\n",
       "      <td>3.485368</td>\n",
       "    </tr>\n",
       "    <tr>\n",
       "      <th>Music</th>\n",
       "      <td>3.441122</td>\n",
       "    </tr>\n",
       "    <tr>\n",
       "      <th>Mystery</th>\n",
       "      <td>3.653243</td>\n",
       "    </tr>\n",
       "    <tr>\n",
       "      <th>Romance</th>\n",
       "      <td>3.550434</td>\n",
       "    </tr>\n",
       "    <tr>\n",
       "      <th>Science Fiction</th>\n",
       "      <td>3.525670</td>\n",
       "    </tr>\n",
       "    <tr>\n",
       "      <th>TV Movie</th>\n",
       "      <td>3.595226</td>\n",
       "    </tr>\n",
       "    <tr>\n",
       "      <th>Thriller</th>\n",
       "      <td>3.562923</td>\n",
       "    </tr>\n",
       "    <tr>\n",
       "      <th>War</th>\n",
       "      <td>3.501808</td>\n",
       "    </tr>\n",
       "    <tr>\n",
       "      <th>Western</th>\n",
       "      <td>3.658921</td>\n",
       "    </tr>\n",
       "    <tr>\n",
       "      <th>unknown</th>\n",
       "      <td>3.458762</td>\n",
       "    </tr>\n",
       "  </tbody>\n",
       "</table>\n",
       "</div>"
      ],
      "text/plain": [
       "                   rating\n",
       "genre                    \n",
       "Action           3.558277\n",
       "Adventure        3.503404\n",
       "Animation        3.597373\n",
       "Comedy           3.536900\n",
       "Crime            3.572401\n",
       "Documentary      3.485778\n",
       "Drama            3.535949\n",
       "Family           3.396431\n",
       "Fantasy          3.507117\n",
       "Foreign          3.495752\n",
       "History          3.426299\n",
       "Horror           3.485368\n",
       "Music            3.441122\n",
       "Mystery          3.653243\n",
       "Romance          3.550434\n",
       "Science Fiction  3.525670\n",
       "TV Movie         3.595226\n",
       "Thriller         3.562923\n",
       "War              3.501808\n",
       "Western          3.658921\n",
       "unknown          3.458762"
      ]
     },
     "execution_count": 29,
     "metadata": {},
     "output_type": "execute_result"
    }
   ],
   "source": [
    "pd.DataFrame(avg_rating)"
   ]
  },
  {
   "cell_type": "markdown",
   "id": "99dccc06",
   "metadata": {},
   "source": [
    "### Insights and Conclusion:\n",
    "- Summarize your key findings from the EDA and Genre Analysis.\n",
    "- Discuss any interesting trends observed in the Temporal Trends section."
   ]
  },
  {
   "cell_type": "markdown",
   "id": "43955b10",
   "metadata": {},
   "source": [
    "1. Through analyzing the distribution of movie rating and revenues, we found that most movie ratings are between 3 and 4, while most movie revenue are less than 70 millions.\n",
    "2. The top 10 movies with most revenues are Avatar, Star Wars: Force Awakens,Titanic, The Avengers, Jurassic World, Furious 7, Avengers: Age of Ultron, Harry Potter and the Deathly Hallows: Part 2, Frozen and Beauty and the Beast.\n",
    "3. The top 10 most frequent keywords of movie are \"woman director\", \"independent film\", \"murder\", \"based on novel\", \"musical\", \"sex\", \"violence\", \"nudity\", and so on.\n",
    "4. The most common movie genre is drama\n",
    "5. Dispite there are different movie genres, the average rating of them are almost the same. The top 5 genres with the highest rating are western, mystery, animation, TV movies and crime.\n",
    "6. The numbers of released movies were getting more and more until 2020. Owing to the impact of pandemic, there are almost no movie in 2020. Additionally, the numbers of released movies grew dramatically from 1980 until 2020.\n",
    "7. The average movie revenues increased rapidly between 1980 and 2000, then the revenues went up and down, and peaked around 2018."
   ]
  },
  {
   "cell_type": "code",
   "execution_count": null,
   "id": "f81b4033",
   "metadata": {},
   "outputs": [],
   "source": []
  }
 ],
 "metadata": {
  "kernelspec": {
   "display_name": "Python 3 (ipykernel)",
   "language": "python",
   "name": "python3"
  },
  "language_info": {
   "codemirror_mode": {
    "name": "ipython",
    "version": 3
   },
   "file_extension": ".py",
   "mimetype": "text/x-python",
   "name": "python",
   "nbconvert_exporter": "python",
   "pygments_lexer": "ipython3",
   "version": "3.9.7"
  },
  "toc": {
   "base_numbering": 1,
   "nav_menu": {},
   "number_sections": true,
   "sideBar": true,
   "skip_h1_title": false,
   "title_cell": "Table of Contents",
   "title_sidebar": "Contents",
   "toc_cell": false,
   "toc_position": {},
   "toc_section_display": true,
   "toc_window_display": false
  }
 },
 "nbformat": 4,
 "nbformat_minor": 5
}
